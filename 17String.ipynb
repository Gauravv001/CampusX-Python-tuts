{
 "cells": [
  {
   "cell_type": "markdown",
   "id": "b12ea151",
   "metadata": {},
   "source": [
    "Strings are sequence of characters\n",
    "\n",
    "in python specially, strings are  sequence of unicode characters\n",
    "\n",
    ">creating strings\n",
    ">Accessing strings\n",
    ">Adding chars to strings\n",
    ">Editing strings\n",
    ">Deleting strings\n",
    ">Operations strings\n",
    ">String functions"
   ]
  },
  {
   "cell_type": "code",
   "execution_count": 4,
   "id": "65410838",
   "metadata": {},
   "outputs": [
    {
     "name": "stdout",
     "output_type": "stream",
     "text": [
      "hello\n",
      "hello\n"
     ]
    }
   ],
   "source": [
    "#creating strings\n",
    "c = 'hello'\n",
    "b = \"hello\"\n",
    "print(c)\n",
    "print(b)"
   ]
  },
  {
   "cell_type": "code",
   "execution_count": 6,
   "id": "1305ae59",
   "metadata": {},
   "outputs": [
    {
     "name": "stdout",
     "output_type": "stream",
     "text": [
      "It's ranining outside\n"
     ]
    }
   ],
   "source": [
    "a = \"It's ranining outside\"\n",
    "print(a)"
   ]
  },
  {
   "cell_type": "code",
   "execution_count": 7,
   "id": "06042d04",
   "metadata": {},
   "outputs": [
    {
     "name": "stdout",
     "output_type": "stream",
     "text": [
      "hello\n"
     ]
    }
   ],
   "source": [
    "#Multli line strings \n",
    "d = '''hello'''\n",
    "print(d)"
   ]
  },
  {
   "cell_type": "code",
   "execution_count": 8,
   "id": "8a82ba83",
   "metadata": {},
   "outputs": [
    {
     "name": "stdout",
     "output_type": "stream",
     "text": [
      "hello\n"
     ]
    }
   ],
   "source": [
    "e = \"\"\"hello\"\"\"\n",
    "print(e)"
   ]
  }
 ],
 "metadata": {
  "kernelspec": {
   "display_name": "Python 3 (ipykernel)",
   "language": "python",
   "name": "python3"
  },
  "language_info": {
   "codemirror_mode": {
    "name": "ipython",
    "version": 3
   },
   "file_extension": ".py",
   "mimetype": "text/x-python",
   "name": "python",
   "nbconvert_exporter": "python",
   "pygments_lexer": "ipython3",
   "version": "3.9.13"
  }
 },
 "nbformat": 4,
 "nbformat_minor": 5
}
