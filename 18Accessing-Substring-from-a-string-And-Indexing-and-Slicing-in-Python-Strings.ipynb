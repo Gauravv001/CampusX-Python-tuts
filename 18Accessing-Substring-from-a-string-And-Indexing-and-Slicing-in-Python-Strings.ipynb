{
 "cells": [
  {
   "cell_type": "markdown",
   "id": "394af95c",
   "metadata": {},
   "source": [
    "Accessing Subsrtings from a string"
   ]
  },
  {
   "cell_type": "code",
   "execution_count": 3,
   "id": "cdfa6d0d",
   "metadata": {},
   "outputs": [
    {
     "name": "stdout",
     "output_type": "stream",
     "text": [
      "hello\n",
      "h\n",
      "e\n",
      "l\n",
      "l\n",
      "o\n"
     ]
    }
   ],
   "source": [
    "#Concept of Indexing\n",
    "a = \"hello\"\n",
    "print(a)\n",
    "print(a[0])\n",
    "print(a[1])\n",
    "print(a[2])\n",
    "print(a[3])\n",
    "print(a[4])\n",
    "#print(a[5]) Error;beacuse you are trying to access out of range. "
   ]
  },
  {
   "cell_type": "code",
   "execution_count": null,
   "id": "f50f835b",
   "metadata": {},
   "outputs": [],
   "source": [
    "# Types of indexing\n",
    "# Positive Indexing(assume that starting index is zero and number present in the square box is always positive) and Negative Indexing(starting from last to first )"
   ]
  },
  {
   "cell_type": "code",
   "execution_count": 4,
   "id": "8238fe86",
   "metadata": {},
   "outputs": [
    {
     "name": "stdout",
     "output_type": "stream",
     "text": [
      "hello\n",
      "o\n",
      "l\n",
      "l\n",
      "e\n",
      "h\n"
     ]
    }
   ],
   "source": [
    "b = \"hello\"\n",
    "print(b)\n",
    "print(a[-1])\n",
    "print(a[-2])\n",
    "print(a[-3])\n",
    "print(a[-4])\n",
    "print(a[-5])"
   ]
  },
  {
   "cell_type": "markdown",
   "id": "d13f222e",
   "metadata": {},
   "source": [
    "#Slicing\n",
    "used to extract multiple characters from a string.\n",
    "syntax :- print(a[start:end+1])\n",
    "end is not inculded so you have give end + 1 "
   ]
  },
  {
   "cell_type": "code",
   "execution_count": 7,
   "id": "0da756e7",
   "metadata": {},
   "outputs": [
    {
     "name": "stdout",
     "output_type": "stream",
     "text": [
      "Hi hola!\n",
      "Hi\n"
     ]
    }
   ],
   "source": [
    "a = \"Hi hola!\"\n",
    "print(a)\n",
    "print(a[0:2])"
   ]
  },
  {
   "cell_type": "code",
   "execution_count": 9,
   "id": "20ac66d6",
   "metadata": {},
   "outputs": [
    {
     "name": "stdout",
     "output_type": "stream",
     "text": [
      "i hola!\n"
     ]
    }
   ],
   "source": [
    "print(a[1:])"
   ]
  },
  {
   "cell_type": "code",
   "execution_count": 10,
   "id": "a950a22c",
   "metadata": {},
   "outputs": [
    {
     "name": "stdout",
     "output_type": "stream",
     "text": [
      "Hi h\n"
     ]
    }
   ],
   "source": [
    "print(a[:4])"
   ]
  },
  {
   "cell_type": "code",
   "execution_count": 11,
   "id": "1d79c492",
   "metadata": {},
   "outputs": [
    {
     "name": "stdout",
     "output_type": "stream",
     "text": [
      "Hi hola!\n"
     ]
    }
   ],
   "source": [
    "print(a[:])"
   ]
  },
  {
   "cell_type": "code",
   "execution_count": 16,
   "id": "aa20adc1",
   "metadata": {},
   "outputs": [
    {
     "name": "stdout",
     "output_type": "stream",
     "text": [
      "hello world\n"
     ]
    }
   ],
   "source": [
    "b = \"hello world\"\n",
    "print(b)"
   ]
  },
  {
   "cell_type": "code",
   "execution_count": 23,
   "id": "75027924",
   "metadata": {},
   "outputs": [
    {
     "name": "stdout",
     "output_type": "stream",
     "text": [
      "lo\n",
      "hlw\n",
      "\n",
      "wr\n"
     ]
    }
   ],
   "source": [
    "print(b[2:6:2])\n",
    "print(b[0:8:3])\n",
    "print(b[0:6:-1]) # cannot use negative step while using positive indexing\n",
    "print(b[-5:-1:2])# negative indexing mein use kro step neagtive mein"
   ]
  },
  {
   "cell_type": "code",
   "execution_count": 22,
   "id": "f5d7478a",
   "metadata": {},
   "outputs": [
    {
     "name": "stdout",
     "output_type": "stream",
     "text": [
      "dlrow olleh\n"
     ]
    }
   ],
   "source": [
    "#reverse-a-string\n",
    "print(b[::-1])"
   ]
  },
  {
   "cell_type": "code",
   "execution_count": 24,
   "id": "0470ac74",
   "metadata": {},
   "outputs": [
    {
     "name": "stdout",
     "output_type": "stream",
     "text": [
      "dlro\n"
     ]
    }
   ],
   "source": [
    "print(b[-1:-5:-1])"
   ]
  },
  {
   "cell_type": "code",
   "execution_count": null,
   "id": "19f90237",
   "metadata": {},
   "outputs": [],
   "source": []
  }
 ],
 "metadata": {
  "kernelspec": {
   "display_name": "Python 3 (ipykernel)",
   "language": "python",
   "name": "python3"
  },
  "language_info": {
   "codemirror_mode": {
    "name": "ipython",
    "version": 3
   },
   "file_extension": ".py",
   "mimetype": "text/x-python",
   "name": "python",
   "nbconvert_exporter": "python",
   "pygments_lexer": "ipython3",
   "version": "3.9.13"
  }
 },
 "nbformat": 4,
 "nbformat_minor": 5
}
