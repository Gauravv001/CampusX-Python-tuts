{
 "cells": [
  {
   "cell_type": "markdown",
   "id": "ea526195",
   "metadata": {},
   "source": [
    "#Tuples are very similar to list\n",
    "#Create\n",
    "#Access\n",
    "#Edit\n",
    "#Add\n",
    "#Delete\n",
    "#Operations\n",
    "#Functions"
   ]
  },
  {
   "cell_type": "code",
   "execution_count": 2,
   "id": "9bb36ce4",
   "metadata": {},
   "outputs": [
    {
     "name": "stdout",
     "output_type": "stream",
     "text": [
      "()\n"
     ]
    }
   ],
   "source": [
    "#Create\n",
    "T1 = ()  #Empty tuple\n",
    "print(T1)"
   ]
  },
  {
   "cell_type": "code",
   "execution_count": 3,
   "id": "89419997",
   "metadata": {},
   "outputs": [
    {
     "name": "stdout",
     "output_type": "stream",
     "text": [
      "(1, 2, 3, 4, 5)\n"
     ]
    }
   ],
   "source": [
    "T2 = (1,2,3,4,5) #Hetrogenous tuple\n",
    "print(T2)"
   ]
  },
  {
   "cell_type": "code",
   "execution_count": 5,
   "id": "b7a6c411",
   "metadata": {},
   "outputs": [
    {
     "name": "stdout",
     "output_type": "stream",
     "text": [
      "('hello', 1, 1.2, False)\n"
     ]
    }
   ],
   "source": [
    "T3 = ('hello',1,1.2,False) #Homogenous tuple\n",
    "print(T3)"
   ]
  },
  {
   "cell_type": "code",
   "execution_count": 7,
   "id": "ab6bf9cc",
   "metadata": {},
   "outputs": [
    {
     "name": "stdout",
     "output_type": "stream",
     "text": [
      "(1, 2, 3, (4, 5))\n"
     ]
    }
   ],
   "source": [
    "#You also create 2-D tuples and 3-D tuples\n",
    "T4 = (1,2,3,(4,5))\n",
    "print(T4)"
   ]
  },
  {
   "cell_type": "code",
   "execution_count": 11,
   "id": "e71f076d",
   "metadata": {},
   "outputs": [
    {
     "name": "stdout",
     "output_type": "stream",
     "text": [
      "<class 'int'>\n",
      "<class 'str'>\n",
      "<class 'tuple'>\n",
      "<class 'tuple'>\n"
     ]
    }
   ],
   "source": [
    "#HOW TO CREATE SINGLE ELEMENT TUPLE\n",
    "T5 = (1)\n",
    "print(type(T5))\n",
    "T6 = (\"Hello\")\n",
    "print(type(T6))\n",
    "\n",
    "#Correct way to make a single item tuple is \n",
    "T7 = (\"hello\",)\n",
    "print(type(T7))\n",
    "T8 = (1,)\n",
    "print(type(T8))"
   ]
  },
  {
   "cell_type": "code",
   "execution_count": 13,
   "id": "d2cf8a13",
   "metadata": {},
   "outputs": [
    {
     "name": "stdout",
     "output_type": "stream",
     "text": [
      "('G', 'o', 'a')\n",
      "(1, 2, 3, 4, 5)\n"
     ]
    }
   ],
   "source": [
    "# you can also create tuple by using Type-conversion.For ex-\n",
    "T9 = tuple(\"Goa\")\n",
    "print(T9)\n",
    "\n",
    "#List to tuple typeconversion\n",
    "T10 = tuple([1,2,3,4,5])\n",
    "print(T10)"
   ]
  },
  {
   "cell_type": "code",
   "execution_count": 16,
   "id": "1497171b",
   "metadata": {},
   "outputs": [
    {
     "name": "stdout",
     "output_type": "stream",
     "text": [
      "1\n",
      "2\n",
      "3\n",
      "4\n",
      "5\n"
     ]
    }
   ],
   "source": [
    "# how to 'Access'\n",
    "# Almost similar to list\n",
    "\n",
    "T11 = (1,2,3,4,5)\n",
    "print(T11[0])\n",
    "print(T11[1])\n",
    "print(T11[2])\n",
    "print(T11[3])\n",
    "print(T11[4])"
   ]
  },
  {
   "cell_type": "code",
   "execution_count": 24,
   "id": "c3073166",
   "metadata": {},
   "outputs": [
    {
     "name": "stdout",
     "output_type": "stream",
     "text": [
      "(1, 2, 3, 4)\n",
      "()\n",
      "4\n"
     ]
    }
   ],
   "source": [
    "#Slicing also works\n",
    "print(T11[:4])\n",
    "print(T11[-1:-1])\n",
    "\n",
    "#2-D tuple\n",
    "T13 = [1,2,3,[4,5]]\n",
    "print(T13[-1][0])"
   ]
  },
  {
   "cell_type": "code",
   "execution_count": 26,
   "id": "d5b5ab9b",
   "metadata": {},
   "outputs": [
    {
     "ename": "TypeError",
     "evalue": "'tuple' object does not support item assignment",
     "output_type": "error",
     "traceback": [
      "\u001b[1;31m---------------------------------------------------------------------------\u001b[0m",
      "\u001b[1;31mTypeError\u001b[0m                                 Traceback (most recent call last)",
      "\u001b[1;32m~\\AppData\\Local\\Temp\\ipykernel_3256\\1391435689.py\u001b[0m in \u001b[0;36m<module>\u001b[1;34m\u001b[0m\n\u001b[0;32m      2\u001b[0m \u001b[0mnewTuple\u001b[0m \u001b[1;33m=\u001b[0m \u001b[1;33m(\u001b[0m\u001b[1;36m1\u001b[0m\u001b[1;33m,\u001b[0m\u001b[1;36m2\u001b[0m\u001b[1;33m,\u001b[0m\u001b[1;36m3\u001b[0m\u001b[1;33m,\u001b[0m\u001b[1;36m4\u001b[0m\u001b[1;33m,\u001b[0m\u001b[1;36m5\u001b[0m\u001b[1;33m)\u001b[0m\u001b[1;33m\u001b[0m\u001b[1;33m\u001b[0m\u001b[0m\n\u001b[0;32m      3\u001b[0m \u001b[1;31m#Now if you want to edit the 1st item of tuple with any other item.Is it possible??\u001b[0m\u001b[1;33m\u001b[0m\u001b[1;33m\u001b[0m\u001b[0m\n\u001b[1;32m----> 4\u001b[1;33m \u001b[0mnewTuple\u001b[0m\u001b[1;33m[\u001b[0m\u001b[1;36m0\u001b[0m\u001b[1;33m]\u001b[0m\u001b[1;33m=\u001b[0m\u001b[1;36m100\u001b[0m\u001b[1;33m\u001b[0m\u001b[1;33m\u001b[0m\u001b[0m\n\u001b[0m",
      "\u001b[1;31mTypeError\u001b[0m: 'tuple' object does not support item assignment"
     ]
    }
   ],
   "source": [
    "#How to 'Edit'\n",
    "newTuple = (1,2,3,4,5)\n",
    "#Now if you want to edit the 1st item of tuple with any other item.Is it possible??\n",
    "newTuple[0]=100"
   ]
  },
  {
   "cell_type": "markdown",
   "id": "0bf1bd5d",
   "metadata": {},
   "source": [
    "# Bcoz Tuples are just like strings which are immutable."
   ]
  },
  {
   "cell_type": "markdown",
   "id": "7b31d66b",
   "metadata": {},
   "source": [
    "# ADD ,can we add new items in tuple??\n",
    "NO NO  NO NO NO NO,and the reason is same as mentioned above"
   ]
  },
  {
   "cell_type": "code",
   "execution_count": 28,
   "id": "22b8ee44",
   "metadata": {},
   "outputs": [
    {
     "name": "stdout",
     "output_type": "stream",
     "text": [
      "(1, 2, 3, 4)\n"
     ]
    },
    {
     "ename": "NameError",
     "evalue": "name 'T14' is not defined",
     "output_type": "error",
     "traceback": [
      "\u001b[1;31m---------------------------------------------------------------------------\u001b[0m",
      "\u001b[1;31mNameError\u001b[0m                                 Traceback (most recent call last)",
      "\u001b[1;32m~\\AppData\\Local\\Temp\\ipykernel_3256\\1698137869.py\u001b[0m in \u001b[0;36m<module>\u001b[1;34m\u001b[0m\n\u001b[0;32m      3\u001b[0m \u001b[0mprint\u001b[0m\u001b[1;33m(\u001b[0m\u001b[0mT14\u001b[0m\u001b[1;33m)\u001b[0m\u001b[1;33m\u001b[0m\u001b[1;33m\u001b[0m\u001b[0m\n\u001b[0;32m      4\u001b[0m \u001b[1;32mdel\u001b[0m \u001b[0mT14\u001b[0m\u001b[1;33m\u001b[0m\u001b[1;33m\u001b[0m\u001b[0m\n\u001b[1;32m----> 5\u001b[1;33m \u001b[0mprint\u001b[0m\u001b[1;33m(\u001b[0m\u001b[0mT14\u001b[0m\u001b[1;33m)\u001b[0m\u001b[1;33m\u001b[0m\u001b[1;33m\u001b[0m\u001b[0m\n\u001b[0m",
      "\u001b[1;31mNameError\u001b[0m: name 'T14' is not defined"
     ]
    }
   ],
   "source": [
    "# Delete \n",
    "T14 = (1,2,3,4)\n",
    "print(T14)\n",
    "del T14\n",
    "print(T14)"
   ]
  },
  {
   "cell_type": "markdown",
   "id": "22b3ce43",
   "metadata": {},
   "source": [
    "NOTE - you are allowed to delete the whole tuple But you are not allowed to delete one single element or item or a part of tuple.\n"
   ]
  },
  {
   "cell_type": "code",
   "execution_count": 29,
   "id": "ca10b150",
   "metadata": {
    "scrolled": true
   },
   "outputs": [
    {
     "ename": "SyntaxError",
     "evalue": "cannot delete function call (1890345539.py, line 2)",
     "output_type": "error",
     "traceback": [
      "\u001b[1;36m  File \u001b[1;32m\"C:\\Users\\DELL\\AppData\\Local\\Temp\\ipykernel_3256\\1890345539.py\"\u001b[1;36m, line \u001b[1;32m2\u001b[0m\n\u001b[1;33m    del T15(1)\u001b[0m\n\u001b[1;37m        ^\u001b[0m\n\u001b[1;31mSyntaxError\u001b[0m\u001b[1;31m:\u001b[0m cannot delete function call\n"
     ]
    }
   ],
   "source": [
    "T15 = (1,2,3,4,5)\n",
    "del T15(1)\n",
    "print(t15)"
   ]
  },
  {
   "cell_type": "code",
   "execution_count": null,
   "id": "a46748ac",
   "metadata": {},
   "outputs": [],
   "source": [
    "#Operations are aslo same as list\n",
    "#1 Concatenation\n",
    "#2 forin loop\n",
    "#3 membership operator"
   ]
  },
  {
   "cell_type": "code",
   "execution_count": 31,
   "id": "64955891",
   "metadata": {},
   "outputs": [
    {
     "name": "stdout",
     "output_type": "stream",
     "text": [
      "(1, 2, 3, 4) ('hello', 5, 6)\n",
      "(1, 2, 3, 4, 'hello', 5, 6)\n"
     ]
    }
   ],
   "source": [
    "T1 = (1,2,3,4)\n",
    "T2 = ('hello',5,6)\n",
    "print(T1,T2)\n",
    "print(T1+T2)"
   ]
  },
  {
   "cell_type": "code",
   "execution_count": 32,
   "id": "9cfb7afc",
   "metadata": {},
   "outputs": [
    {
     "name": "stdout",
     "output_type": "stream",
     "text": [
      "1\n",
      "2\n",
      "3\n",
      "4\n"
     ]
    }
   ],
   "source": [
    "for i in T1:\n",
    "    print(i)"
   ]
  },
  {
   "cell_type": "code",
   "execution_count": 33,
   "id": "a721ffef",
   "metadata": {},
   "outputs": [
    {
     "data": {
      "text/plain": [
       "True"
      ]
     },
     "execution_count": 33,
     "metadata": {},
     "output_type": "execute_result"
    }
   ],
   "source": [
    "1 in T1"
   ]
  },
  {
   "cell_type": "code",
   "execution_count": 40,
   "id": "920d577b",
   "metadata": {},
   "outputs": [
    {
     "name": "stdout",
     "output_type": "stream",
     "text": [
      "4\n",
      "1\n",
      "4\n",
      "10\n",
      "[1, 2, 3, 4]\n",
      "[4, 3, 2, 1]\n"
     ]
    }
   ],
   "source": [
    "#Funtcions\n",
    "\n",
    "t1 = (1,2,3,4)\n",
    "print(len(t1))\n",
    "print(min(t1))\n",
    "print(max(t1))\n",
    "print(sum(t1))\n",
    "print(sorted(t1)) #this will convert tuple into list\n",
    "print(sorted(t1,reverse=True))"
   ]
  },
  {
   "cell_type": "code",
   "execution_count": null,
   "id": "111d213f",
   "metadata": {},
   "outputs": [],
   "source": [
    "#Two types of operations \n",
    "#1.read operation ,means accessing the memory\n",
    "#2.write operation,means changing memory\n",
    "#Tuples are read only data-type\n",
    "# those scenarios when data-integration is impr.\n"
   ]
  }
 ],
 "metadata": {
  "kernelspec": {
   "display_name": "Python 3 (ipykernel)",
   "language": "python",
   "name": "python3"
  },
  "language_info": {
   "codemirror_mode": {
    "name": "ipython",
    "version": 3
   },
   "file_extension": ".py",
   "mimetype": "text/x-python",
   "name": "python",
   "nbconvert_exporter": "python",
   "pygments_lexer": "ipython3",
   "version": "3.9.13"
  }
 },
 "nbformat": 4,
 "nbformat_minor": 5
}
