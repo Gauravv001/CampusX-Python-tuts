{
 "cells": [
  {
   "cell_type": "markdown",
   "id": "63874670",
   "metadata": {},
   "source": [
    "# What are functions?\n",
    "# block of code + having some sort of purpose.\n",
    "# Abstrction(it is like a ghost)\n",
    "# Decomposition (all heroes vs common villian)\n",
    "# components of function in pyhton\n",
    "\n",
    "# def ---  keyword\n",
    "# is_even --- name\n",
    "# i --- parameters or arguments\n",
    "# inside def everything is in body\n",
    "# print(is_even(3)) --- function calling\n",
    "\n",
    "def is_even(i):\n",
    "    \"\"\"\n",
    "    Input: i, a positive int\n",
    "    Returns True is i is even, otherwise False\n",
    "    \n",
    "    \"\"\"\n",
    "    x = i%2 == 0\n",
    "    return x\n",
    " \n",
    "print(is_even(3))"
   ]
  },
  {
   "cell_type": "code",
   "execution_count": 3,
   "id": "d6b509f6",
   "metadata": {},
   "outputs": [
    {
     "name": "stdout",
     "output_type": "stream",
     "text": [
      "Odd\n",
      "Even\n",
      "Odd\n",
      "Even\n",
      "Odd\n",
      "Even\n",
      "Odd\n",
      "Even\n",
      "Odd\n",
      "Even\n"
     ]
    }
   ],
   "source": [
    "# create a function which tells us whether a number is odd or even\n",
    "# everything written inside the docs string is the info which you have to provide to the user.\n",
    "def evenOdd(number):\n",
    "    \"\"\"\n",
    "    This function tells if a given number is odd or even.\n",
    "    input- any valid integer.\n",
    "    returns- odd/even\n",
    "    created by- ABC\n",
    "    Last edited- 11th May 2023\n",
    "    \n",
    "    \"\"\"\n",
    "    if number%2==0:\n",
    "        return \"Even\"\n",
    "    else:\n",
    "        return \"Odd\"\n",
    "\n",
    "for i in range(1,11):\n",
    "    print(evenOdd(i))"
   ]
  },
  {
   "cell_type": "code",
   "execution_count": 4,
   "id": "bb05f420",
   "metadata": {},
   "outputs": [
    {
     "name": "stdout",
     "output_type": "stream",
     "text": [
      "\n",
      "    This function tells if a given number is odd or even.\n",
      "    input- any valid integer.\n",
      "    returns- odd/even\n",
      "    created by- ABC\n",
      "    Last edited- 11th May 2023\n",
      "    \n",
      "    \n"
     ]
    }
   ],
   "source": [
    "# if you want to print the documentation of any function \n",
    "# use this--> nameofthefunction.__doc__\n",
    "print(evenOdd.__doc__)"
   ]
  },
  {
   "cell_type": "code",
   "execution_count": 8,
   "id": "c79a1c39",
   "metadata": {},
   "outputs": [
    {
     "name": "stdout",
     "output_type": "stream",
     "text": [
      "print(value, ..., sep=' ', end='\\n', file=sys.stdout, flush=False)\n",
      "\n",
      "Prints the values to a stream, or to sys.stdout by default.\n",
      "Optional keyword arguments:\n",
      "file:  a file-like object (stream); defaults to the current sys.stdout.\n",
      "sep:   string inserted between values, default a space.\n",
      "end:   string appended after the last value, default a newline.\n",
      "flush: whether to forcibly flush the stream.\n"
     ]
    }
   ],
   "source": [
    "print(print.__doc__)"
   ]
  },
  {
   "cell_type": "code",
   "execution_count": 6,
   "id": "11888006",
   "metadata": {},
   "outputs": [
    {
     "name": "stdout",
     "output_type": "stream",
     "text": [
      "type(object) -> the object's type\n",
      "type(name, bases, dict, **kwds) -> a new type\n"
     ]
    }
   ],
   "source": [
    "print(type.__doc__)"
   ]
  },
  {
   "cell_type": "raw",
   "id": "8ed2ea29",
   "metadata": {},
   "source": [
    "# 2 P.O.V of functions.\n",
    "# one is the programmer who is using it.\n",
    "# another one is who made that function. \n",
    "# you can use any function as a library by usinf import keyword.\n",
    "# responsibilty is on the programmer who made that function,he/she have to considered all the possible cases in which this function code might leak or brusted."
   ]
  },
  {
   "cell_type": "code",
   "execution_count": 4,
   "id": "73e26af2",
   "metadata": {},
   "outputs": [
    {
     "name": "stdout",
     "output_type": "stream",
     "text": [
      "even\n",
      "Not allowed\n"
     ]
    }
   ],
   "source": [
    "def evenOdd(number):\n",
    "    if type(number) == int:\n",
    "        if number%2==0:\n",
    "            return \"even\"\n",
    "        else:\n",
    "            return \"Odd\"\n",
    "    else:\n",
    "        return \"Not allowed\"\n",
    "    \n",
    "print(evenOdd(2))\n",
    "print(evenOdd('hello'))"
   ]
  },
  {
   "cell_type": "code",
   "execution_count": 9,
   "id": "2db70484",
   "metadata": {},
   "outputs": [
    {
     "name": "stdout",
     "output_type": "stream",
     "text": [
      "Odd\n",
      "None\n"
     ]
    }
   ],
   "source": [
    "def evenOdd(number):\n",
    "    \"\"\"\n",
    "    This function tells if a given number is odd or even.\n",
    "    input- any valid integer.\n",
    "    returns- odd/even\n",
    "    created by- ABC\n",
    "    Last edited- 11th May 2023\n",
    "    \n",
    "    \"\"\"\n",
    "    if number%2==0:\n",
    "        print(\"Even\")\n",
    "    else:\n",
    "        print(\"Odd\")\n",
    "\n",
    "x = evenOdd(3)\n",
    "print(x)\n",
    "\n",
    "# NOTE - if a function does not returning something it means it returns NONE."
   ]
  },
  {
   "cell_type": "code",
   "execution_count": 5,
   "id": "2ddf926d",
   "metadata": {},
   "outputs": [],
   "source": [
    "# Parameters Vs Arguments\n",
    "# 1. Default Arguments\n",
    "# 2. Positional Arguments\n",
    "# 3. Keyword Arguments\n",
    "# 4. Arbitrary Arguments\n",
    " "
   ]
  },
  {
   "cell_type": "code",
   "execution_count": 10,
   "id": "a47422b7",
   "metadata": {},
   "outputs": [
    {
     "name": "stdout",
     "output_type": "stream",
     "text": [
      "8\n",
      "9\n"
     ]
    }
   ],
   "source": [
    "def power(a,b):\n",
    "    return a**b\n",
    "print(power(2,3))\n",
    "print(power(3,2))"
   ]
  },
  {
   "cell_type": "code",
   "execution_count": 11,
   "id": "33765362",
   "metadata": {},
   "outputs": [
    {
     "ename": "TypeError",
     "evalue": "power() missing 1 required positional argument: 'b'",
     "output_type": "error",
     "traceback": [
      "\u001b[1;31m---------------------------------------------------------------------------\u001b[0m",
      "\u001b[1;31mTypeError\u001b[0m                                 Traceback (most recent call last)",
      "\u001b[1;32m~\\AppData\\Local\\Temp\\ipykernel_9856\\1245225575.py\u001b[0m in \u001b[0;36m<module>\u001b[1;34m\u001b[0m\n\u001b[0;32m      1\u001b[0m \u001b[1;31m# what if ??\u001b[0m\u001b[1;33m\u001b[0m\u001b[1;33m\u001b[0m\u001b[0m\n\u001b[1;32m----> 2\u001b[1;33m \u001b[0mprint\u001b[0m\u001b[1;33m(\u001b[0m\u001b[0mpower\u001b[0m\u001b[1;33m(\u001b[0m\u001b[1;36m2\u001b[0m\u001b[1;33m)\u001b[0m\u001b[1;33m)\u001b[0m\u001b[1;33m\u001b[0m\u001b[1;33m\u001b[0m\u001b[0m\n\u001b[0m\u001b[0;32m      3\u001b[0m \u001b[0mprint\u001b[0m\u001b[1;33m(\u001b[0m\u001b[0mpower\u001b[0m\u001b[1;33m(\u001b[0m\u001b[1;33m)\u001b[0m\u001b[1;33m)\u001b[0m\u001b[1;33m\u001b[0m\u001b[1;33m\u001b[0m\u001b[0m\n",
      "\u001b[1;31mTypeError\u001b[0m: power() missing 1 required positional argument: 'b'"
     ]
    }
   ],
   "source": [
    "# what if ??\n",
    "print(power(2))\n",
    "print(power())"
   ]
  },
  {
   "cell_type": "code",
   "execution_count": 12,
   "id": "cfbb34d6",
   "metadata": {},
   "outputs": [
    {
     "name": "stdout",
     "output_type": "stream",
     "text": [
      "8\n",
      "2\n",
      "1\n"
     ]
    }
   ],
   "source": [
    "# the solution is default arguments.\n",
    "def power(a=1,b=1):\n",
    "    return a**b\n",
    "print(power(2,3))\n",
    "print(power(2))\n",
    "print(power())"
   ]
  },
  {
   "cell_type": "code",
   "execution_count": 13,
   "id": "d837fc73",
   "metadata": {},
   "outputs": [
    {
     "name": "stdout",
     "output_type": "stream",
     "text": [
      "8\n"
     ]
    }
   ],
   "source": [
    "print(power(2,3))\n",
    "# why 2 is assign to a and 3 is assign to b --> this behaviour is due to known as positional arguments"
   ]
  },
  {
   "cell_type": "code",
   "execution_count": 14,
   "id": "6ceb0c79",
   "metadata": {},
   "outputs": [
    {
     "name": "stdout",
     "output_type": "stream",
     "text": [
      "9\n"
     ]
    }
   ],
   "source": [
    "print(power(b=2,a=3))\n",
    "# explicitily you may change the position of arguments and this is known as keyword arguments."
   ]
  },
  {
   "cell_type": "code",
   "execution_count": 15,
   "id": "ff623649",
   "metadata": {},
   "outputs": [
    {
     "name": "stdout",
     "output_type": "stream",
     "text": [
      "1 2 3 4 5\n"
     ]
    }
   ],
   "source": [
    "print(1,2,3,4,5)\n",
    "# print mein kitne hi arguments daal do print krdega but howw?? you can do the same with your functions"
   ]
  },
  {
   "cell_type": "code",
   "execution_count": 25,
   "id": "6e60f6ba",
   "metadata": {},
   "outputs": [
    {
     "name": "stdout",
     "output_type": "stream",
     "text": [
      "(1, 2, 3)\n",
      "<class 'tuple'>\n",
      "6\n"
     ]
    }
   ],
   "source": [
    "def flexi(*number):\n",
    "    product = 1\n",
    "    print(number)\n",
    "    print(type(number))\n",
    "    for i in number: \n",
    "        product=product*i\n",
    "    print(product)\n",
    "\n",
    "flexi(1,2,3)"
   ]
  },
  {
   "cell_type": "code",
   "execution_count": 21,
   "id": "a6b98184",
   "metadata": {
    "scrolled": true
   },
   "outputs": [
    {
     "name": "stdout",
     "output_type": "stream",
     "text": [
      "720\n"
     ]
    }
   ],
   "source": [
    "flexi(1,2,3,4,5,6)"
   ]
  },
  {
   "cell_type": "code",
   "execution_count": 6,
   "id": "39733d40",
   "metadata": {},
   "outputs": [
    {
     "name": "stdout",
     "output_type": "stream",
     "text": [
      "inside func_a\n",
      "None\n",
      "inside func_b\n",
      "7\n"
     ]
    }
   ],
   "source": [
    "def func_a():\n",
    "    print('inside func_a')\n",
    "\n",
    "def func_b(y):\n",
    "    print('inside func_b')\n",
    "    return y\n",
    "    \n",
    "\n",
    "print(func_a())\n",
    "print(5+func_b(2))"
   ]
  },
  {
   "cell_type": "code",
   "execution_count": 7,
   "id": "8a55161d",
   "metadata": {},
   "outputs": [
    {
     "name": "stdout",
     "output_type": "stream",
     "text": [
      "2\n",
      "5\n"
     ]
    }
   ],
   "source": [
    "# Global variables and local variables\n",
    "# GV are those which are created inside the main function and LV are those which are created inside any other function block.\n",
    "# Note that the name of the varibale present inside the function block and global frame they can co-exists.\n",
    "\n",
    "def f(y):\n",
    "    x = 1\n",
    "    x += 1\n",
    "    print(x)\n",
    "    \n",
    "x = 5\n",
    "f(x)\n",
    "print(x)"
   ]
  },
  {
   "cell_type": "code",
   "execution_count": 8,
   "id": "b4141ae3",
   "metadata": {},
   "outputs": [
    {
     "name": "stdout",
     "output_type": "stream",
     "text": [
      "5\n",
      "6\n",
      "5\n"
     ]
    }
   ],
   "source": [
    "# local Variable can use global variable if there is no local varibale present\n",
    "def g(y):\n",
    "    print(x)\n",
    "    print(x+1)\n",
    "    \n",
    "x = 5\n",
    "g(x)\n",
    "print(x)"
   ]
  },
  {
   "cell_type": "code",
   "execution_count": 9,
   "id": "967d5b28",
   "metadata": {},
   "outputs": [
    {
     "ename": "UnboundLocalError",
     "evalue": "local variable 'x' referenced before assignment",
     "output_type": "error",
     "traceback": [
      "\u001b[1;31m---------------------------------------------------------------------------\u001b[0m",
      "\u001b[1;31mUnboundLocalError\u001b[0m                         Traceback (most recent call last)",
      "\u001b[1;32m~\\AppData\\Local\\Temp\\ipykernel_17352\\2672075257.py\u001b[0m in \u001b[0;36m<module>\u001b[1;34m\u001b[0m\n\u001b[0;32m      6\u001b[0m     \u001b[0mx\u001b[0m \u001b[1;33m+=\u001b[0m \u001b[1;36m1\u001b[0m\u001b[1;33m\u001b[0m\u001b[1;33m\u001b[0m\u001b[0m\n\u001b[0;32m      7\u001b[0m \u001b[0mx\u001b[0m \u001b[1;33m=\u001b[0m \u001b[1;36m5\u001b[0m\u001b[1;33m\u001b[0m\u001b[1;33m\u001b[0m\u001b[0m\n\u001b[1;32m----> 8\u001b[1;33m \u001b[0mh\u001b[0m\u001b[1;33m(\u001b[0m\u001b[0mx\u001b[0m\u001b[1;33m)\u001b[0m\u001b[1;33m\u001b[0m\u001b[1;33m\u001b[0m\u001b[0m\n\u001b[0m\u001b[0;32m      9\u001b[0m \u001b[0mprint\u001b[0m\u001b[1;33m(\u001b[0m\u001b[0mx\u001b[0m\u001b[1;33m)\u001b[0m\u001b[1;33m\u001b[0m\u001b[1;33m\u001b[0m\u001b[0m\n",
      "\u001b[1;32m~\\AppData\\Local\\Temp\\ipykernel_17352\\2672075257.py\u001b[0m in \u001b[0;36mh\u001b[1;34m(y)\u001b[0m\n\u001b[0;32m      4\u001b[0m \u001b[1;33m\u001b[0m\u001b[0m\n\u001b[0;32m      5\u001b[0m \u001b[1;32mdef\u001b[0m \u001b[0mh\u001b[0m\u001b[1;33m(\u001b[0m\u001b[0my\u001b[0m\u001b[1;33m)\u001b[0m\u001b[1;33m:\u001b[0m\u001b[1;33m\u001b[0m\u001b[1;33m\u001b[0m\u001b[0m\n\u001b[1;32m----> 6\u001b[1;33m     \u001b[0mx\u001b[0m \u001b[1;33m+=\u001b[0m \u001b[1;36m1\u001b[0m\u001b[1;33m\u001b[0m\u001b[1;33m\u001b[0m\u001b[0m\n\u001b[0m\u001b[0;32m      7\u001b[0m \u001b[0mx\u001b[0m \u001b[1;33m=\u001b[0m \u001b[1;36m5\u001b[0m\u001b[1;33m\u001b[0m\u001b[1;33m\u001b[0m\u001b[0m\n\u001b[0;32m      8\u001b[0m \u001b[0mh\u001b[0m\u001b[1;33m(\u001b[0m\u001b[0mx\u001b[0m\u001b[1;33m)\u001b[0m\u001b[1;33m\u001b[0m\u001b[1;33m\u001b[0m\u001b[0m\n",
      "\u001b[1;31mUnboundLocalError\u001b[0m: local variable 'x' referenced before assignment"
     ]
    }
   ],
   "source": [
    "# rule 2 : ek function ke pass khud ka variable nahi hai tho vho global variable ko use kr skta hai.\n",
    "# rule 3 : only use kar skta hai changes karna not allowed.\n",
    "\n",
    "def h(y):\n",
    "    x += 1\n",
    "x = 5\n",
    "h(x)\n",
    "print(x)"
   ]
  },
  {
   "cell_type": "code",
   "execution_count": 10,
   "id": "f0c8b359",
   "metadata": {},
   "outputs": [
    {
     "name": "stdout",
     "output_type": "stream",
     "text": [
      "6\n"
     ]
    }
   ],
   "source": [
    "# Note - if you want you can explicitly change the global variable.\n",
    "\n",
    "def h(y):\n",
    "    global x\n",
    "    x += 1\n",
    "x = 5\n",
    "h(x)\n",
    "print(x)\n",
    "\n",
    "# but try to avoid it as much as possible."
   ]
  },
  {
   "cell_type": "code",
   "execution_count": 11,
   "id": "78aac869",
   "metadata": {},
   "outputs": [
    {
     "name": "stdout",
     "output_type": "stream",
     "text": [
      "in f(x): x = 4\n",
      "in main program scope:z= 4\n",
      "in main program scope:x= 3\n"
     ]
    }
   ],
   "source": [
    "def f(x):\n",
    "    x = x + 1\n",
    "    print('in f(x): x =',x)\n",
    "    return x\n",
    "    \n",
    "x = 3\n",
    "z = f(x)\n",
    "print('in main program scope:z=',z)\n",
    "print('in main program scope:x=',x)"
   ]
  },
  {
   "cell_type": "code",
   "execution_count": 13,
   "id": "1e0edd86",
   "metadata": {},
   "outputs": [
    {
     "name": "stdout",
     "output_type": "stream",
     "text": [
      "inside f\n",
      "inside g\n",
      "None\n"
     ]
    },
    {
     "ename": "TypeError",
     "evalue": "g() missing 1 required positional argument: 'y'",
     "output_type": "error",
     "traceback": [
      "\u001b[1;31m---------------------------------------------------------------------------\u001b[0m",
      "\u001b[1;31mTypeError\u001b[0m                                 Traceback (most recent call last)",
      "\u001b[1;32m~\\AppData\\Local\\Temp\\ipykernel_17352\\436864913.py\u001b[0m in \u001b[0;36m<module>\u001b[1;34m\u001b[0m\n\u001b[0;32m      7\u001b[0m \u001b[1;33m\u001b[0m\u001b[0m\n\u001b[0;32m      8\u001b[0m \u001b[0mprint\u001b[0m\u001b[1;33m(\u001b[0m\u001b[0mf\u001b[0m\u001b[1;33m(\u001b[0m\u001b[1;33m)\u001b[0m\u001b[1;33m)\u001b[0m\u001b[1;33m\u001b[0m\u001b[1;33m\u001b[0m\u001b[0m\n\u001b[1;32m----> 9\u001b[1;33m \u001b[0mprint\u001b[0m\u001b[1;33m(\u001b[0m\u001b[0mg\u001b[0m\u001b[1;33m(\u001b[0m\u001b[1;33m)\u001b[0m\u001b[1;33m)\u001b[0m\u001b[1;33m\u001b[0m\u001b[1;33m\u001b[0m\u001b[0m\n\u001b[0m",
      "\u001b[1;31mTypeError\u001b[0m: g() missing 1 required positional argument: 'y'"
     ]
    }
   ],
   "source": [
    "#  Nested functions\n",
    "def f():\n",
    "    print('inside f')\n",
    "    def g():\n",
    "        print('inside g')\n",
    "    g()\n",
    "\n",
    "print(f())\n",
    "print(g())\n",
    "# main program se nested function always hidden rhta hai."
   ]
  },
  {
   "cell_type": "code",
   "execution_count": null,
   "id": "9a9778c2",
   "metadata": {},
   "outputs": [],
   "source": [
    "def f():\n",
    "    print('inside f')\n",
    "    def g():\n",
    "        print('inside g')\n",
    "        f()\n",
    "    g()\n",
    "\n",
    "print(f())\n",
    "# infinite loop runs"
   ]
  },
  {
   "cell_type": "code",
   "execution_count": 2,
   "id": "bdbcd3ad",
   "metadata": {},
   "outputs": [
    {
     "name": "stdout",
     "output_type": "stream",
     "text": [
      "in g(x): x = 4\n"
     ]
    }
   ],
   "source": [
    "def g(x):\n",
    "    def h():\n",
    "        x = 'abc'\n",
    "    x = x + 1\n",
    "    print('in g(x): x =',x)\n",
    "    h()\n",
    "    return x\n",
    "\n",
    "x = 3\n",
    "z = g(x)"
   ]
  },
  {
   "cell_type": "code",
   "execution_count": 7,
   "id": "7b6a9dbb",
   "metadata": {},
   "outputs": [
    {
     "name": "stdout",
     "output_type": "stream",
     "text": [
      "4\n",
      "9\n"
     ]
    }
   ],
   "source": [
    "# note everything in python is object and function too.\n",
    "\n",
    "def f(num):\n",
    "    return num**2\n",
    "print(f(2))\n",
    "\n",
    "# what if we do something like tha\n",
    "x = f  #aliasing \n",
    "\n",
    "print(x(3))"
   ]
  },
  {
   "cell_type": "code",
   "execution_count": 8,
   "id": "93a68d03",
   "metadata": {},
   "outputs": [
    {
     "ename": "NameError",
     "evalue": "name 'f' is not defined",
     "output_type": "error",
     "traceback": [
      "\u001b[1;31m---------------------------------------------------------------------------\u001b[0m",
      "\u001b[1;31mNameError\u001b[0m                                 Traceback (most recent call last)",
      "\u001b[1;32m~\\AppData\\Local\\Temp\\ipykernel_8028\\2565273878.py\u001b[0m in \u001b[0;36m<module>\u001b[1;34m\u001b[0m\n\u001b[0;32m      1\u001b[0m \u001b[1;32mdel\u001b[0m \u001b[0mf\u001b[0m\u001b[1;33m\u001b[0m\u001b[1;33m\u001b[0m\u001b[0m\n\u001b[1;32m----> 2\u001b[1;33m \u001b[0mf\u001b[0m\u001b[1;33m(\u001b[0m\u001b[1;36m2\u001b[0m\u001b[1;33m)\u001b[0m\u001b[1;33m\u001b[0m\u001b[1;33m\u001b[0m\u001b[0m\n\u001b[0m",
      "\u001b[1;31mNameError\u001b[0m: name 'f' is not defined"
     ]
    }
   ],
   "source": [
    "del f\n",
    "f(2)"
   ]
  },
  {
   "cell_type": "code",
   "execution_count": 10,
   "id": "0c53e8be",
   "metadata": {},
   "outputs": [
    {
     "name": "stdout",
     "output_type": "stream",
     "text": [
      "9\n",
      "<class 'function'>\n"
     ]
    }
   ],
   "source": [
    "print(x(3))\n",
    "print(type(x))"
   ]
  },
  {
   "cell_type": "code",
   "execution_count": 16,
   "id": "39469996",
   "metadata": {},
   "outputs": [
    {
     "name": "stdout",
     "output_type": "stream",
     "text": [
      "[1, 2, 3, 4]\n",
      "[1, 2, 3, 4, <function f at 0x00000248765B71F0>]\n",
      "9\n"
     ]
    }
   ],
   "source": [
    "Lis = [1,2,3,4]\n",
    "print(Lis)\n",
    "Lis = [1,2,3,4,x]\n",
    "print(Lis)\n",
    "\n",
    "print(Lis[-1](3))"
   ]
  },
  {
   "cell_type": "code",
   "execution_count": 18,
   "id": "3d1b52a4",
   "metadata": {},
   "outputs": [
    {
     "name": "stdout",
     "output_type": "stream",
     "text": [
      "[1, 2, 3, 4, <function f at 0x00000248765B71F0>]\n",
      "[1, 2, 3, 4, 16]\n"
     ]
    }
   ],
   "source": [
    "Lis = [1,2,3,4,x]\n",
    "print(Lis)\n",
    "Lis = [1,2,3,4,x(4)]\n",
    "print(Lis)"
   ]
  },
  {
   "cell_type": "code",
   "execution_count": null,
   "id": "0de67704",
   "metadata": {},
   "outputs": [],
   "source": [
    "# SO WHAT??\n",
    "\n",
    "# 1. Renaming functions\n",
    "# 2. Deleting functions\n",
    "# 3. Sorting a functions\n",
    "# 4. Returning a functions\n",
    "# 5. Function as argument"
   ]
  },
  {
   "cell_type": "code",
   "execution_count": 19,
   "id": "c73b1be8",
   "metadata": {},
   "outputs": [
    {
     "name": "stdout",
     "output_type": "stream",
     "text": [
      "inside func_c\n",
      "inside func_a\n",
      "None\n"
     ]
    }
   ],
   "source": [
    "# 5. Function as argument\n",
    "def func_a():\n",
    "    print('inside func_a')\n",
    "\n",
    "def func_c(z):\n",
    "    print('inside func_c')\n",
    "    return z()\n",
    "    \n",
    "print(func_c(func_a))"
   ]
  },
  {
   "cell_type": "code",
   "execution_count": 20,
   "id": "2d131760",
   "metadata": {},
   "outputs": [
    {
     "name": "stdout",
     "output_type": "stream",
     "text": [
      "7\n"
     ]
    }
   ],
   "source": [
    "# 4. Returning a functions\n",
    "def f():\n",
    "    def x(a,b):\n",
    "        return a+b\n",
    "    return x\n",
    "val = f()(3,4)\n",
    "print(val)"
   ]
  },
  {
   "cell_type": "code",
   "execution_count": null,
   "id": "a3ef5b80",
   "metadata": {},
   "outputs": [],
   "source": [
    "#  Benefits of using a function\n",
    "# 1. Every code is self-Obtained and used to break up the entire login into pieces(code modularity).\n",
    "# 2. Works on the philosophy of write once used forever! (Code reusability)\n",
    "# 3. Code is organised and coherent(Code readability)."
   ]
  }
 ],
 "metadata": {
  "kernelspec": {
   "display_name": "Python 3 (ipykernel)",
   "language": "python",
   "name": "python3"
  },
  "language_info": {
   "codemirror_mode": {
    "name": "ipython",
    "version": 3
   },
   "file_extension": ".py",
   "mimetype": "text/x-python",
   "name": "python",
   "nbconvert_exporter": "python",
   "pygments_lexer": "ipython3",
   "version": "3.9.13"
  }
 },
 "nbformat": 4,
 "nbformat_minor": 5
}
