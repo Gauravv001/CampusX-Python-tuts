{
 "cells": [
  {
   "cell_type": "code",
   "execution_count": 2,
   "id": "6ded6452",
   "metadata": {},
   "outputs": [
    {
     "name": "stdout",
     "output_type": "stream",
     "text": [
      "56\n"
     ]
    },
    {
     "data": {
      "text/plain": [
       "'56'"
      ]
     },
     "execution_count": 2,
     "metadata": {},
     "output_type": "execute_result"
    }
   ],
   "source": [
    "input()"
   ]
  },
  {
   "cell_type": "code",
   "execution_count": 3,
   "id": "46661a4c",
   "metadata": {},
   "outputs": [
    {
     "name": "stdout",
     "output_type": "stream",
     "text": [
      "Please tell your namegaurav\n"
     ]
    },
    {
     "data": {
      "text/plain": [
       "'gaurav'"
      ]
     },
     "execution_count": 3,
     "metadata": {},
     "output_type": "execute_result"
    }
   ],
   "source": [
    "input(prompt = \"Please tell your name\")"
   ]
  },
  {
   "cell_type": "code",
   "execution_count": 4,
   "id": "baef01d6",
   "metadata": {},
   "outputs": [
    {
     "name": "stdout",
     "output_type": "stream",
     "text": [
      "emailABC@gmail.com\n"
     ]
    },
    {
     "data": {
      "text/plain": [
       "'ABC@gmail.com'"
      ]
     },
     "execution_count": 4,
     "metadata": {},
     "output_type": "execute_result"
    }
   ],
   "source": [
    "input(\"email\")"
   ]
  },
  {
   "cell_type": "code",
   "execution_count": 5,
   "id": "68647a2a",
   "metadata": {},
   "outputs": [
    {
     "name": "stdout",
     "output_type": "stream",
     "text": [
      "enter the first number12\n",
      "enter the second number23\n"
     ]
    }
   ],
   "source": [
    "# user jab bhi input dega via input() function vho humesha string format mein uske pass ayega.\n",
    "# string is a universal format \n",
    "firstNum = input(\"enter the first number\")\n",
    "secondNum = input(\"enter the second number\")"
   ]
  },
  {
   "cell_type": "code",
   "execution_count": 6,
   "id": "da78e17c",
   "metadata": {},
   "outputs": [
    {
     "name": "stdout",
     "output_type": "stream",
     "text": [
      "12\n",
      "23\n",
      "1223\n"
     ]
    }
   ],
   "source": [
    "print(firstNum)\n",
    "print(secondNum)\n",
    "result = firstNum + secondNum\n",
    "print(result)"
   ]
  },
  {
   "cell_type": "code",
   "execution_count": 7,
   "id": "872b15ff",
   "metadata": {},
   "outputs": [
    {
     "data": {
      "text/plain": [
       "int"
      ]
     },
     "execution_count": 7,
     "metadata": {},
     "output_type": "execute_result"
    }
   ],
   "source": [
    "#type() used to determine the type of the varibale.\n",
    "type(4)"
   ]
  },
  {
   "cell_type": "code",
   "execution_count": 11,
   "id": "edb66e96",
   "metadata": {},
   "outputs": [
    {
     "name": "stdout",
     "output_type": "stream",
     "text": [
      "<class 'str'>\n"
     ]
    },
    {
     "data": {
      "text/plain": [
       "'12'"
      ]
     },
     "execution_count": 11,
     "metadata": {},
     "output_type": "execute_result"
    }
   ],
   "source": [
    "print(type(firstNum))\n",
    "firstNum"
   ]
  },
  {
   "cell_type": "code",
   "execution_count": null,
   "id": "5f6a3fe0",
   "metadata": {},
   "outputs": [],
   "source": [
    "# type conversion are of two types\n",
    "# implicit and explicit"
   ]
  },
  {
   "cell_type": "code",
   "execution_count": 12,
   "id": "48c4174d",
   "metadata": {},
   "outputs": [
    {
     "data": {
      "text/plain": [
       "9.5"
      ]
     },
     "execution_count": 12,
     "metadata": {},
     "output_type": "execute_result"
    }
   ],
   "source": [
    "4 + 5.5"
   ]
  },
  {
   "cell_type": "code",
   "execution_count": 13,
   "id": "b320b45e",
   "metadata": {},
   "outputs": [
    {
     "data": {
      "text/plain": [
       "(6+6j)"
      ]
     },
     "execution_count": 13,
     "metadata": {},
     "output_type": "execute_result"
    }
   ],
   "source": [
    "1 + 5 + 6j"
   ]
  },
  {
   "cell_type": "code",
   "execution_count": 14,
   "id": "6d581ba1",
   "metadata": {},
   "outputs": [
    {
     "data": {
      "text/plain": [
       "(5+2j)"
      ]
     },
     "execution_count": 14,
     "metadata": {},
     "output_type": "execute_result"
    }
   ],
   "source": [
    "2.5 + 2.5 + 2j"
   ]
  },
  {
   "cell_type": "code",
   "execution_count": null,
   "id": "82d98f4b",
   "metadata": {},
   "outputs": [],
   "source": [
    "#explicit type conversion (there are some built in functions which are available)"
   ]
  },
  {
   "cell_type": "code",
   "execution_count": 15,
   "id": "75da1683",
   "metadata": {},
   "outputs": [
    {
     "data": {
      "text/plain": [
       "45"
      ]
     },
     "execution_count": 15,
     "metadata": {},
     "output_type": "execute_result"
    }
   ],
   "source": [
    "#int\n",
    "int('45')"
   ]
  },
  {
   "cell_type": "code",
   "execution_count": 16,
   "id": "630ae25a",
   "metadata": {},
   "outputs": [
    {
     "data": {
      "text/plain": [
       "4.0"
      ]
     },
     "execution_count": 16,
     "metadata": {},
     "output_type": "execute_result"
    }
   ],
   "source": [
    "float(4)"
   ]
  },
  {
   "cell_type": "code",
   "execution_count": 17,
   "id": "d8e33212",
   "metadata": {},
   "outputs": [
    {
     "data": {
      "text/plain": [
       "'5'"
      ]
     },
     "execution_count": 17,
     "metadata": {},
     "output_type": "execute_result"
    }
   ],
   "source": [
    "str(5)"
   ]
  },
  {
   "cell_type": "code",
   "execution_count": 18,
   "id": "06220149",
   "metadata": {},
   "outputs": [
    {
     "data": {
      "text/plain": [
       "True"
      ]
     },
     "execution_count": 18,
     "metadata": {},
     "output_type": "execute_result"
    }
   ],
   "source": [
    "bool(1)"
   ]
  },
  {
   "cell_type": "code",
   "execution_count": 19,
   "id": "d47a41d6",
   "metadata": {},
   "outputs": [
    {
     "data": {
      "text/plain": [
       "(4+0j)"
      ]
     },
     "execution_count": 19,
     "metadata": {},
     "output_type": "execute_result"
    }
   ],
   "source": [
    "complex(4)"
   ]
  },
  {
   "cell_type": "code",
   "execution_count": 20,
   "id": "ef6fdea1",
   "metadata": {},
   "outputs": [
    {
     "data": {
      "text/plain": [
       "['h', 'e', 'l', 'l', 'o']"
      ]
     },
     "execution_count": 20,
     "metadata": {},
     "output_type": "execute_result"
    }
   ],
   "source": [
    "list('hello')"
   ]
  },
  {
   "cell_type": "code",
   "execution_count": 21,
   "id": "517e68c6",
   "metadata": {},
   "outputs": [
    {
     "data": {
      "text/plain": [
       "4"
      ]
     },
     "execution_count": 21,
     "metadata": {},
     "output_type": "execute_result"
    }
   ],
   "source": [
    "#type conversison is not an permanent operation.\n",
    "a = 4.5\n",
    "int(a)"
   ]
  },
  {
   "cell_type": "code",
   "execution_count": 22,
   "id": "06c2abda",
   "metadata": {},
   "outputs": [
    {
     "data": {
      "text/plain": [
       "4.5"
      ]
     },
     "execution_count": 22,
     "metadata": {},
     "output_type": "execute_result"
    }
   ],
   "source": [
    "a"
   ]
  },
  {
   "cell_type": "code",
   "execution_count": 23,
   "id": "4c9b68f9",
   "metadata": {},
   "outputs": [
    {
     "name": "stdout",
     "output_type": "stream",
     "text": [
      "enter the first number10\n",
      "enter the second number20\n",
      "10\n",
      "20\n",
      "30\n"
     ]
    }
   ],
   "source": [
    "firstNum = int(input(\"enter the first number\"))\n",
    "secondNum = int(input(\"enter the second number\"))\n",
    "print(firstNum)\n",
    "print(secondNum)\n",
    "res = firstNum + secondNum\n",
    "print(res)"
   ]
  }
 ],
 "metadata": {
  "kernelspec": {
   "display_name": "Python 3 (ipykernel)",
   "language": "python",
   "name": "python3"
  },
  "language_info": {
   "codemirror_mode": {
    "name": "ipython",
    "version": 3
   },
   "file_extension": ".py",
   "mimetype": "text/x-python",
   "name": "python",
   "nbconvert_exporter": "python",
   "pygments_lexer": "ipython3",
   "version": "3.9.13"
  }
 },
 "nbformat": 4,
 "nbformat_minor": 5
}
