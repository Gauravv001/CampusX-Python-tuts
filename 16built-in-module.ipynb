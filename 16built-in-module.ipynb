{
 "cells": [
  {
   "cell_type": "code",
   "execution_count": 6,
   "id": "4fb348d4",
   "metadata": {},
   "outputs": [
    {
     "name": "stdout",
     "output_type": "stream",
     "text": [
      "\n",
      "Please wait a moment while I gather a list of all available modules...\n",
      "\n"
     ]
    },
    {
     "name": "stderr",
     "output_type": "stream",
     "text": [
      "C:\\Users\\DELL\\anaconda3\\lib\\site-packages\\IPython\\kernel\\__init__.py:12: ShimWarning: The `IPython.kernel` package has been deprecated since IPython 4.0.You should import from ipykernel or jupyter_client instead.\n",
      "  warn(\"The `IPython.kernel` package has been deprecated since IPython 4.0.\"\n",
      "WARNING: AstropyDeprecationWarning: The private astropy._erfa module has been made into its own package, pyerfa, which is a dependency of astropy and can be imported directly using \"import erfa\" [astropy._erfa]\n",
      "C:\\Users\\DELL\\anaconda3\\lib\\site-packages\\paramiko\\transport.py:219: CryptographyDeprecationWarning: Blowfish has been deprecated\n",
      "  \"class\": algorithms.Blowfish,\n",
      "C:\\Users\\DELL\\anaconda3\\lib\\site-packages\\nltk\\twitter\\__init__.py:20: UserWarning: The twython library has not been installed. Some functionality from the twitter package will not be available.\n",
      "  warnings.warn(\n",
      "C:\\Users\\DELL\\anaconda3\\lib\\site-packages\\setuptools\\_distutils\\_msvccompiler.py:563: UserWarning: Fallback spawn triggered. Please update distutils monkeypatch.\n",
      "  warnings.warn(\"Fallback spawn triggered. Please update distutils monkeypatch.\")\n",
      "C:\\Users\\DELL\\anaconda3\\lib\\site-packages\\_distutils_hack\\__init__.py:33: UserWarning: Setuptools is replacing distutils.\n",
      "  warnings.warn(\"Setuptools is replacing distutils.\")\n",
      "No QCoreApplication instance found. Application patches not applied. You have to call load_stylesheet function after instantiation of QApplication to take effect. \n",
      "C:\\Users\\DELL\\anaconda3\\lib\\pkgutil.py:108: VisibleDeprecationWarning:\n",
      "\n",
      "zmq.eventloop.minitornado is deprecated in pyzmq 14.0 and will be removed.\n",
      "    Install tornado itself to use zmq with the tornado IOLoop.\n",
      "    \n",
      "\n"
     ]
    },
    {
     "name": "stdout",
     "output_type": "stream",
     "text": [
      "Cython              comtypes            mock                socks\n",
      "IPython             concurrent          modulefinder        sockshandler\n",
      "OpenSSL             conda               mpmath              sortedcollections\n",
      "PIL                 conda_build         msgpack             sortedcontainers\n",
      "PyQt5               conda_content_trust msilib              soupsieve\n",
      "TBB                 conda_env           msvcrt              sphinx\n",
      "__future__          conda_pack          multipledispatch    spyder\n",
      "_abc                conda_package_handling multiprocessing     spyder_kernels\n",
      "_aix_support        conda_token         munkres             sqlalchemy\n",
      "_argon2_cffi_bindings conda_verify        mypy_extensions     sqlite3\n",
      "_ast                configparser        nacl                sre_compile\n",
      "_asyncio            constantly          navigator_updater   sre_constants\n",
      "_bisect             contextlib          nbclassic           sre_parse\n",
      "_black_version      contextvars         nbclient            ssl\n",
      "_blake2             cookiecutter        nbconvert           sspi\n",
      "_bootlocale         copy                nbformat            sspicon\n",
      "_bootsubprocess     copyreg             nest_asyncio        stat\n",
      "_bz2                crypt               netbios             statistics\n",
      "_cffi_backend       cryptography        netrc               statsmodels\n",
      "_codecs             cssselect           networkx            storemagic\n",
      "_codecs_cn          csv                 nltk                string\n",
      "_codecs_hk          ctypes              nntplib             stringprep\n",
      "_codecs_iso2022     curl                nose                struct\n",
      "_codecs_jp          curses              notebook            subprocess\n",
      "_codecs_kr          cwp                 nt                  sunau\n",
      "_codecs_tw          cycler              ntpath              symbol\n",
      "_collections        cython              ntsecuritycon       sympy\n",
      "_collections_abc    cythonmagic         nturl2path          sympyprinting\n",
      "_compat_pickle      cytoolz             numba               symtable\n",
      "_compression        daal4py             numbergen           sys\n",
      "_contextvars        dask                numbers             sysconfig\n",
      "_csv                dataclasses         numexpr             tables\n",
      "_ctypes             datashader          numpy               tabnanny\n",
      "_ctypes_test        datashape           numpydoc            tabulate\n",
      "_datetime           datetime            odbc                tarfile\n",
      "_decimal            dateutil            olefile             tbb\n",
      "_distutils_hack     dbi                 onedal              tblib\n",
      "_elementtree        dbm                 opcode              telnetlib\n",
      "_functools          dde                 openpyxl            tempfile\n",
      "_hashlib            debugpy             operator            tenacity\n",
      "_heapq              decimal             optparse            terminado\n",
      "_imp                decorator           os                  test\n",
      "_io                 defusedxml          packaging           test_pycosat\n",
      "_json               diff_match_patch    pandas              testpath\n",
      "_locale             difflib             pandocfilters       tests\n",
      "_lsprof             dill                panel               text_unidecode\n",
      "_lzma               dis                 param               textdistance\n",
      "_markupbase         distributed         paramiko            textwrap\n",
      "_md5                distutils           parsel              this\n",
      "_msi                doctest             parser              threading\n",
      "_multibytecodec     docutils            parso               threadpoolctl\n",
      "_multiprocessing    email               partd               three_merge\n",
      "_nsis               encodings           past                tifffile\n",
      "_opcode             ensurepip           pathlib             time\n",
      "_operator           entrypoints         pathspec            timeit\n",
      "_osx_support        enum                patsy               timer\n",
      "_overlapped         erfa                pdb                 tinycss\n",
      "_peg_parser         errno               pep8                tkinter\n",
      "_pickle             et_xmlfile          perfmon             tldextract\n",
      "_plotly_future_     fastjsonschema      pexpect             tlz\n",
      "_plotly_utils       faulthandler        pickle              token\n",
      "_py_abc             filecmp             pickleshare         tokenize\n",
      "_pydecimal          fileinput           pickletools         toml\n",
      "_pyio               filelock            pip                 tomli\n",
      "_pyrsistent_version flake8              pipes               tomlkit\n",
      "_pytest             flask               pkg_resources       toolz\n",
      "_queue              fnmatch             pkginfo             tornado\n",
      "_random             fontTools           pkgutil             tqdm\n",
      "_sha1               formatter           platform            trace\n",
      "_sha256             fractions           platformdirs        traceback\n",
      "_sha3               fsspec              plistlib            tracemalloc\n",
      "_sha512             ftplib              plotly              traitlets\n",
      "_signal             functools           pluggy              tty\n",
      "_sitebuiltins       future              poplib              turtle\n",
      "_socket             gc                  posixpath           turtledemo\n",
      "_sqlite3            genericpath         poyo                twisted\n",
      "_sre                gensim              pprint              types\n",
      "_ssl                getopt              profile             typing\n",
      "_stat               getpass             prometheus_client   typing_extensions\n",
      "_statistics         gettext             prompt_toolkit      ujson\n",
      "_string             glob                protego             unicodedata\n",
      "_strptime           glob2               pstats              unidecode\n",
      "_struct             graphlib            psutil              unittest\n",
      "_symtable           greenlet            pty                 urllib\n",
      "_system_path        gzip                ptyprocess          urllib3\n",
      "_testbuffer         h5py                pvectorc            uu\n",
      "_testcapi           hamcrest            py                  uuid\n",
      "_testconsole        hashlib             py_compile          venv\n",
      "_testimportmultiple heapdict            pyasn1              w3lib\n",
      "_testinternalcapi   heapq               pyasn1_modules      warnings\n",
      "_testmultiphase     hmac                pyclbr              watchdog\n",
      "_thread             holoviews           pycodestyle         wave\n",
      "_threading_local    html                pycosat             wcwidth\n",
      "_tkinter            http                pycparser           weakref\n",
      "_tracemalloc        hvplot              pyct                webbrowser\n",
      "_uuid               hyperlink           pycurl              webencodings\n",
      "_warnings           idlelib             pydispatch          websocket\n",
      "_weakref            idna                pydoc               werkzeug\n",
      "_weakrefset         imagecodecs         pydoc_data          wheel\n",
      "_win32sysloader     imageio             pydocstyle          widgetsnbextension\n",
      "_winapi             imagesize           pyexpat             win2kras\n",
      "_winxptheme         imaplib             pyflakes            win32api\n",
      "_xxsubinterpreters  imghdr              pygments            win32clipboard\n",
      "_yaml               imp                 pylab               win32com\n",
      "_zoneinfo           importlib           pylint              win32con\n",
      "abc                 importlib_metadata  pyls_spyder         win32console\n",
      "adodbapi            incremental         pylsp               win32cred\n",
      "afxres              inflection          pylsp_black         win32crypt\n",
      "aifc                iniconfig           pylsp_jsonrpc       win32cryptcon\n",
      "alabaster           inspect             pyodbc              win32ctypes\n",
      "anaconda_navigator  intake              pyparsing           win32event\n",
      "anaconda_project    intervaltree        pyrsistent          win32evtlog\n",
      "antigravity         io                  pytest              win32evtlogutil\n",
      "anyio               ipaddress           pythoncom           win32file\n",
      "appdirs             ipykernel           pytz                win32gui\n",
      "argon2              ipykernel_launcher  pyviz_comms         win32gui_struct\n",
      "argparse            ipython_genutils    pywin               win32help\n",
      "array               ipywidgets          pywin32_bootstrap   win32inet\n",
      "arrow               isapi               pywin32_testutil    win32inetcon\n",
      "ast                 isort               pywintypes          win32job\n",
      "astroid             isympy              pywt                win32lz\n",
      "astropy             itemadapter         pyximport           win32net\n",
      "asynchat            itemloaders         qdarkstyle          win32netcon\n",
      "asyncio             itertools           qstylizer           win32pdh\n",
      "asyncore            itsdangerous        qtawesome           win32pdhquery\n",
      "atexit              jdcal               qtconsole           win32pdhutil\n",
      "atomicwrites        jedi                qtpy                win32pipe\n",
      "attr                jellyfish           queue               win32print\n",
      "attrs               jinja2              queuelib            win32process\n",
      "audioop             jinja2_time         quopri              win32profile\n",
      "automat             jmespath            random              win32ras\n",
      "autopep8            joblib              rasutil             win32rcparser\n",
      "autoreload          json                re                  win32security\n",
      "babel               json5               regcheck            win32service\n",
      "backcall            jsonschema          regex               win32serviceutil\n",
      "backports           jupyter             regutil             win32timezone\n",
      "base64              jupyter_client      repo_cli            win32trace\n",
      "bcrypt              jupyter_console     reprlib             win32traceutil\n",
      "bdb                 jupyter_core        requests            win32transaction\n",
      "binaryornot         jupyter_server      requests_file       win32ts\n",
      "binascii            jupyterlab          rlcompleter         win32ui\n",
      "binhex              jupyterlab_plotly   rmagic              win32uiole\n",
      "binstar_client      jupyterlab_pygments rope                win32verstamp\n",
      "bisect              jupyterlab_server   rtree               win32wnet\n",
      "bitarray            jupyterlab_widgets  ruamel_yaml         win_inet_pton\n",
      "bkcharts            jwt                 run                 win_unicode_console\n",
      "black               keyring             runpy               wincertstore\n",
      "blackd              keyword             s3transfer          winerror\n",
      "bleach              kiwisolver          sched               winioctlcon\n",
      "blib2to3            lazy_object_proxy   scipy               winnt\n",
      "bokeh               lib2to3             scrapy              winperf\n",
      "boto3               libarchive          seaborn             winpty\n",
      "botocore            libfuturize         secrets             winreg\n",
      "bottleneck          libpasteurize       select              winsound\n",
      "brotli              lief                selectors           winxpgui\n",
      "bs4                 linecache           send2trash          winxptheme\n",
      "builtins            llvmlite            service_identity    wrapt\n",
      "bz2                 locale              servicemanager      wsgiref\n",
      "cProfile            locket              setuptools          xarray\n",
      "calendar            logging             shelve              xdrlib\n",
      "certifi             lxml                shlex               xlrd\n",
      "cffi                lz4                 shutil              xlsxwriter\n",
      "cgi                 lzma                signal              xlwings\n",
      "cgitb               mailbox             sip                 xml\n",
      "chardet             mailcap             sipconfig           xmlrpc\n",
      "charset_normalizer  markdown            sipdistutils        xxsubtype\n",
      "chunk               markupsafe          site                yaml\n",
      "click               marshal             six                 yapf\n",
      "cloudpickle         math                skimage             yapftests\n",
      "clyent              matplotlib          sklearn             zict\n",
      "cmath               matplotlib_inline   sklearnex           zipapp\n",
      "cmd                 mccabe              slugify             zipfile\n",
      "code                menuinst            smart_open          zipimport\n",
      "codecs              mimetypes           smtpd               zipp\n",
      "codeop              mistune             smtplib             zlib\n",
      "collections         mkl                 snappy              zmq\n",
      "colorama            mkl_fft             sndhdr              zoneinfo\n",
      "colorcet            mkl_random          sniffio             zope\n",
      "colorsys            mmap                snowballstemmer     \n",
      "commctrl            mmapfile            socket              \n",
      "compileall          mmsystem            socketserver        \n",
      "\n",
      "Enter any module name to get more help.  Or, type \"modules spam\" to search\n",
      "for modules whose name or summary contain the string \"spam\".\n",
      "\n"
     ]
    }
   ],
   "source": [
    "help('modules')"
   ]
  },
  {
   "cell_type": "markdown",
   "id": "71195e80",
   "metadata": {},
   "source": [
    "What are modules?\n",
    "\n",
    "consider a module to be the same as a code libaray.\n",
    "A file containing a set of functions you want to include in your application\n",
    "ex-  some python modules\n",
    "Math\n",
    "Random\n",
    "Os\n",
    "time"
   ]
  },
  {
   "cell_type": "code",
   "execution_count": 8,
   "id": "3f5bf959",
   "metadata": {},
   "outputs": [],
   "source": [
    "import math"
   ]
  },
  {
   "cell_type": "code",
   "execution_count": 9,
   "id": "b86d4456",
   "metadata": {},
   "outputs": [
    {
     "data": {
      "text/plain": [
       "3.141592653589793"
      ]
     },
     "execution_count": 9,
     "metadata": {},
     "output_type": "execute_result"
    }
   ],
   "source": [
    "math.pi"
   ]
  },
  {
   "cell_type": "code",
   "execution_count": 10,
   "id": "fbe2d5b6",
   "metadata": {},
   "outputs": [
    {
     "data": {
      "text/plain": [
       "120"
      ]
     },
     "execution_count": 10,
     "metadata": {},
     "output_type": "execute_result"
    }
   ],
   "source": [
    " math.factorial(5)"
   ]
  },
  {
   "cell_type": "code",
   "execution_count": 11,
   "id": "895a518b",
   "metadata": {},
   "outputs": [
    {
     "data": {
      "text/plain": [
       "2.718281828459045"
      ]
     },
     "execution_count": 11,
     "metadata": {},
     "output_type": "execute_result"
    }
   ],
   "source": [
    "math.e"
   ]
  },
  {
   "cell_type": "code",
   "execution_count": 12,
   "id": "2dcfaf0e",
   "metadata": {},
   "outputs": [
    {
     "data": {
      "text/plain": [
       "7"
      ]
     },
     "execution_count": 12,
     "metadata": {},
     "output_type": "execute_result"
    }
   ],
   "source": [
    "math.ceil(6.5)"
   ]
  },
  {
   "cell_type": "code",
   "execution_count": 13,
   "id": "2e6794ce",
   "metadata": {},
   "outputs": [
    {
     "data": {
      "text/plain": [
       "6"
      ]
     },
     "execution_count": 13,
     "metadata": {},
     "output_type": "execute_result"
    }
   ],
   "source": [
    "math.floor(6.5)"
   ]
  },
  {
   "cell_type": "code",
   "execution_count": 14,
   "id": "105ec6fb",
   "metadata": {},
   "outputs": [],
   "source": [
    "import random"
   ]
  },
  {
   "cell_type": "code",
   "execution_count": 24,
   "id": "533d63d5",
   "metadata": {},
   "outputs": [
    {
     "data": {
      "text/plain": [
       "6"
      ]
     },
     "execution_count": 24,
     "metadata": {},
     "output_type": "execute_result"
    }
   ],
   "source": [
    "random.randint(1,20)"
   ]
  },
  {
   "cell_type": "code",
   "execution_count": 33,
   "id": "d7d416c4",
   "metadata": {},
   "outputs": [
    {
     "name": "stdout",
     "output_type": "stream",
     "text": [
      "[5, 1, 4, 2, 3, 6]\n"
     ]
    }
   ],
   "source": [
    "a = [1,2,3,4,5,6]\n",
    "random.shuffle(a)\n",
    "print(a)"
   ]
  },
  {
   "cell_type": "code",
   "execution_count": 66,
   "id": "5fd33ef6",
   "metadata": {},
   "outputs": [
    {
     "name": "stdout",
     "output_type": "stream",
     "text": [
      "1681288448.6593432\n",
      "Wed Apr 12 14:04:08 2023\n"
     ]
    }
   ],
   "source": [
    "import time\n",
    "\n",
    "print(time.time())\n",
    "print(time.ctime())"
   ]
  },
  {
   "cell_type": "code",
   "execution_count": 67,
   "id": "6dd0d7cc",
   "metadata": {},
   "outputs": [
    {
     "name": "stdout",
     "output_type": "stream",
     "text": [
      "hello\n",
      "world\n"
     ]
    }
   ],
   "source": [
    "print(\"hello\")\n",
    "time.sleep(2)\n",
    "print(\"world\")"
   ]
  },
  {
   "cell_type": "code",
   "execution_count": 68,
   "id": "5477502a",
   "metadata": {},
   "outputs": [],
   "source": [
    "import os"
   ]
  },
  {
   "cell_type": "code",
   "execution_count": 70,
   "id": "182130ae",
   "metadata": {},
   "outputs": [
    {
     "data": {
      "text/plain": [
       "'C:\\\\Users\\\\DELL\\\\OneDrive - MAIT\\\\Documents\\\\VScode\\\\Python tuts'"
      ]
     },
     "execution_count": 70,
     "metadata": {},
     "output_type": "execute_result"
    }
   ],
   "source": [
    "os.getcwd()"
   ]
  },
  {
   "cell_type": "code",
   "execution_count": 71,
   "id": "a77ed6cc",
   "metadata": {},
   "outputs": [
    {
     "data": {
      "text/plain": [
       "['.ipynb_checkpoints',\n",
       " '01Print_sep_end.ipynb',\n",
       " '02Data_types.ipynb',\n",
       " '03Variables.ipynb',\n",
       " '04keywords_and_identifiers.ipynb',\n",
       " '05taking-user-input-and-type-conversion.ipynb',\n",
       " '06Literals.ipynb',\n",
       " '07Operators.ipynb',\n",
       " '08if-else-statements.ipynb',\n",
       " '09 Indentation_In_python.ipynb',\n",
       " '10While-loop.ipynb',\n",
       " '11Guessing-game-in-python.ipynb',\n",
       " '12For-loop.ipynb',\n",
       " '13Nested-loops.ipynb',\n",
       " '14break-continue-and-pass.ipynb',\n",
       " '15built-in-functions.ipynb',\n",
       " '16built-in-module.ipynb']"
      ]
     },
     "execution_count": 71,
     "metadata": {},
     "output_type": "execute_result"
    }
   ],
   "source": [
    "os.listdir()"
   ]
  }
 ],
 "metadata": {
  "kernelspec": {
   "display_name": "Python 3 (ipykernel)",
   "language": "python",
   "name": "python3"
  },
  "language_info": {
   "codemirror_mode": {
    "name": "ipython",
    "version": 3
   },
   "file_extension": ".py",
   "mimetype": "text/x-python",
   "name": "python",
   "nbconvert_exporter": "python",
   "pygments_lexer": "ipython3",
   "version": "3.9.13"
  }
 },
 "nbformat": 4,
 "nbformat_minor": 5
}
