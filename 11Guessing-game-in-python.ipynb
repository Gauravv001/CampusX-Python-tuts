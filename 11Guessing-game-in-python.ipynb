{
 "cells": [
  {
   "cell_type": "code",
   "execution_count": 2,
   "id": "e3ba341b",
   "metadata": {},
   "outputs": [],
   "source": [
    "import random"
   ]
  },
  {
   "cell_type": "code",
   "execution_count": 17,
   "id": "8fcded0f",
   "metadata": {},
   "outputs": [
    {
     "data": {
      "text/plain": [
       "2"
      ]
     },
     "execution_count": 17,
     "metadata": {},
     "output_type": "execute_result"
    }
   ],
   "source": [
    "random.randint(1,100)"
   ]
  },
  {
   "cell_type": "code",
   "execution_count": 19,
   "id": "38a7bc58",
   "metadata": {},
   "outputs": [
    {
     "name": "stdout",
     "output_type": "stream",
     "text": [
      "guess kro number50\n",
      "Guess Lower\n",
      "guess kro number25\n",
      "Guess Higher\n",
      "guess kro number35\n",
      "Guess Higher\n",
      "guess kro number45\n",
      "Guess Lower\n",
      "guess kro number40\n",
      "Guess Lower\n",
      "guess kro number37\n",
      "Correct Guess 6 attempts\n"
     ]
    }
   ],
   "source": [
    "JackpotNumber = random.randint(1,100)\n",
    "userGuess = int(input(\"guess kro number\"))\n",
    "counter = 1\n",
    "\n",
    "while userGuess != JackpotNumber:\n",
    "    if userGuess < JackpotNumber:\n",
    "        print(\"Guess Higher\")\n",
    "    else:\n",
    "        print(\"Guess Lower\")\n",
    "        \n",
    "    userGuess = int(input(\"guess kro number\"))\n",
    "    counter +=1\n",
    "\n",
    "print(\"Correct Guess\", counter, \"attempts\")"
   ]
  }
 ],
 "metadata": {
  "kernelspec": {
   "display_name": "Python 3 (ipykernel)",
   "language": "python",
   "name": "python3"
  },
  "language_info": {
   "codemirror_mode": {
    "name": "ipython",
    "version": 3
   },
   "file_extension": ".py",
   "mimetype": "text/x-python",
   "name": "python",
   "nbconvert_exporter": "python",
   "pygments_lexer": "ipython3",
   "version": "3.9.13"
  }
 },
 "nbformat": 4,
 "nbformat_minor": 5
}
