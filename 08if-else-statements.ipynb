{
 "cells": [
  {
   "cell_type": "code",
   "execution_count": null,
   "id": "bc89d159",
   "metadata": {},
   "outputs": [],
   "source": [
    "#Correct email-campusx@gmail.com\n",
    "#password-1234\n",
    "\n",
    "Email = input(\"enter the e-mail:\")\n",
    "if '@' in Email:\n",
    "    Password = input(\"enter the password:\")\n",
    "    if Email == \"campusx@gmail.com\" and Password == \"1234\":\n",
    "        print(\"Welcome\")\n",
    "    elif Email == \"campusx@gmail.com\" and Password != \"1234\":\n",
    "        print(\"password Incorrect\")\n",
    "        Password = input(\"Password\")\n",
    "        if Password == \"1234\":\n",
    "            print(\"Finally correct\")\n",
    "        else:\n",
    "            print(\"still incorrect\")\n",
    "    else:\n",
    "        print(\"incorrect\")\n",
    "else:\n",
    "    print(\"email is incorrect\")"
   ]
  },
  {
   "cell_type": "code",
   "execution_count": null,
   "id": "d1382b1b",
   "metadata": {},
   "outputs": [],
   "source": []
  }
 ],
 "metadata": {
  "kernelspec": {
   "display_name": "Python 3 (ipykernel)",
   "language": "python",
   "name": "python3"
  },
  "language_info": {
   "codemirror_mode": {
    "name": "ipython",
    "version": 3
   },
   "file_extension": ".py",
   "mimetype": "text/x-python",
   "name": "python",
   "nbconvert_exporter": "python",
   "pygments_lexer": "ipython3",
   "version": "3.9.13"
  }
 },
 "nbformat": 4,
 "nbformat_minor": 5
}
