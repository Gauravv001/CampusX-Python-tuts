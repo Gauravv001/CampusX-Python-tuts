{
 "cells": [
  {
   "cell_type": "markdown",
   "id": "fa8b1844",
   "metadata": {},
   "source": [
    "IN CPP YOU NEED NOT WORRY ABOUT INDENTATION OF YOUR CODE LINE\n",
    "int name = \"xyz\";\n",
    "if(name == \"xyz\"){\n",
    "   line1;\n",
    "   line2;\n",
    "}else{\n",
    "   line3;\n",
    "}"
   ]
  },
  {
   "cell_type": "code",
   "execution_count": 5,
   "id": "304fadc4",
   "metadata": {},
   "outputs": [
    {
     "name": "stdout",
     "output_type": "stream",
     "text": [
      "line1\n",
      "line2\n",
      "line4\n"
     ]
    }
   ],
   "source": [
    "name = \"xyz\"\n",
    "if name == \"xyz\":\n",
    "    print('line1')\n",
    "    print('line2')\n",
    "    if 5 == 5:\n",
    "        print('line4')\n",
    "else:\n",
    "    print('line3')"
   ]
  },
  {
   "cell_type": "markdown",
   "id": "0c975c90",
   "metadata": {},
   "source": [
    "But in python indentation is very necessary to define a block of code. Press \"TAB\" not space bar in order to get back  "
   ]
  },
  {
   "cell_type": "code",
   "execution_count": null,
   "id": "59da1808",
   "metadata": {},
   "outputs": [],
   "source": []
  }
 ],
 "metadata": {
  "kernelspec": {
   "display_name": "Python 3 (ipykernel)",
   "language": "python",
   "name": "python3"
  },
  "language_info": {
   "codemirror_mode": {
    "name": "ipython",
    "version": 3
   },
   "file_extension": ".py",
   "mimetype": "text/x-python",
   "name": "python",
   "nbconvert_exporter": "python",
   "pygments_lexer": "ipython3",
   "version": "3.9.13"
  }
 },
 "nbformat": 4,
 "nbformat_minor": 5
}
