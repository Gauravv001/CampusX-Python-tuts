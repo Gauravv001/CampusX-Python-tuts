{
 "cells": [
  {
   "cell_type": "code",
   "execution_count": 6,
   "id": "666a25a6",
   "metadata": {},
   "outputs": [
    {
     "data": {
      "text/plain": [
       "81"
      ]
     },
     "execution_count": 6,
     "metadata": {},
     "output_type": "execute_result"
    }
   ],
   "source": [
    "# Lambda functions\n",
    "# lambda input: expression\n",
    "x = lambda x : x**2\n",
    "x(9)"
   ]
  },
  {
   "cell_type": "code",
   "execution_count": 11,
   "id": "b2551238",
   "metadata": {},
   "outputs": [
    {
     "name": "stdout",
     "output_type": "stream",
     "text": [
      "9\n",
      "<class 'function'>\n"
     ]
    }
   ],
   "source": [
    "a = lambda x,y : x + y\n",
    "print(a(4,5))\n",
    "print(type(a))"
   ]
  },
  {
   "cell_type": "raw",
   "id": "b782dfb9",
   "metadata": {},
   "source": [
    "# difference lambda function vs normal functions \n",
    "# lambda has no return value.\n",
    "# complete function return \\.\n",
    "# not use for code reusability\n",
    "# only one line\n",
    "# no namne "
   ]
  },
  {
   "cell_type": "code",
   "execution_count": null,
   "id": "3b191252",
   "metadata": {},
   "outputs": [],
   "source": [
    "# But why???\n",
    "# along with higher order functions"
   ]
  },
  {
   "cell_type": "code",
   "execution_count": 13,
   "id": "c9d2f21b",
   "metadata": {},
   "outputs": [
    {
     "data": {
      "text/plain": [
       "False"
      ]
     },
     "execution_count": 13,
     "metadata": {},
     "output_type": "execute_result"
    }
   ],
   "source": [
    "a = lambda x:x[0] == 'b'\n",
    "a('banana')\n",
    "a('Apple')"
   ]
  },
  {
   "cell_type": "code",
   "execution_count": 14,
   "id": "e208df7b",
   "metadata": {
    "scrolled": true
   },
   "outputs": [
    {
     "name": "stdout",
     "output_type": "stream",
     "text": [
      "even\n",
      "odd\n",
      "even\n"
     ]
    }
   ],
   "source": [
    "a = lambda x:'even' if x%2==0 else 'odd'\n",
    "print(a(2))\n",
    "print(a(3))\n",
    "print(a(4))"
   ]
  },
  {
   "cell_type": "code",
   "execution_count": 1,
   "id": "ba58ab32",
   "metadata": {},
   "outputs": [],
   "source": [
    "l = [11,14,21,23,56,78,45,29,28]\n",
    "def return_sum(l):\n",
    "    evenSum = 0\n",
    "    oddSum = 0\n",
    "    \n",
    "    for i in l:\n",
    "        if i%2 == 0:\n",
    "            evenSum = evenSum + i\n",
    "        if i%2 != 0:\n",
    "            oddSum = oddSum + i\n",
    "        return(evenSum,oddSum)\n",
    "# note:- this is still improved and you can improved it by using higher order functions."
   ]
  },
  {
   "cell_type": "code",
   "execution_count": 3,
   "id": "2b823e15",
   "metadata": {},
   "outputs": [
    {
     "name": "stdout",
     "output_type": "stream",
     "text": [
      "176\n",
      "129\n",
      "144\n"
     ]
    }
   ],
   "source": [
    "# by using higher order function....\n",
    "def returnSum(func,l):\n",
    "    res = 0\n",
    "    \n",
    "    for i in l:\n",
    "        if func(i):\n",
    "            res = res + i\n",
    "    return res\n",
    "\n",
    "l = [11,14,21,23,56,78,45,29,28]\n",
    "\n",
    "x = lambda x:x % 2 == 0\n",
    "y = lambda x:x % 2 != 0 \n",
    "z = lambda x:x % 3 == 0\n",
    "\n",
    "print(returnSum(x,l))\n",
    "print(returnSum(y,l))\n",
    "print(returnSum(z,l))"
   ]
  },
  {
   "cell_type": "markdown",
   "id": "dbd6e7b1",
   "metadata": {},
   "source": [
    "# map \n",
    "# filter \n",
    "# reduce"
   ]
  },
  {
   "cell_type": "code",
   "execution_count": 4,
   "id": "f21e71e7",
   "metadata": {},
   "outputs": [
    {
     "data": {
      "text/plain": [
       "<map at 0x1bd7ad17790>"
      ]
     },
     "execution_count": 4,
     "metadata": {},
     "output_type": "execute_result"
    }
   ],
   "source": [
    "# Map\n",
    "# map(function,iterable)\n",
    "l = [1,2,3,4,5,6,7]\n",
    "map(lambda x:x*2,l)"
   ]
  },
  {
   "cell_type": "code",
   "execution_count": 5,
   "id": "f5a2d2b2",
   "metadata": {},
   "outputs": [
    {
     "data": {
      "text/plain": [
       "[2, 4, 6, 8, 10, 12, 14]"
      ]
     },
     "execution_count": 5,
     "metadata": {},
     "output_type": "execute_result"
    }
   ],
   "source": [
    "list(map(lambda x:x*2,l))"
   ]
  },
  {
   "cell_type": "code",
   "execution_count": 2,
   "id": "ba94fcaa",
   "metadata": {
    "scrolled": true
   },
   "outputs": [
    {
     "data": {
      "text/plain": [
       "[False, True, False, True, False, True, False]"
      ]
     },
     "execution_count": 2,
     "metadata": {},
     "output_type": "execute_result"
    }
   ],
   "source": [
    "l = [1,2,3,4,5,6,7]\n",
    "list(map(lambda x:x%2 == 0,l))"
   ]
  },
  {
   "cell_type": "code",
   "execution_count": 10,
   "id": "9eca97ea",
   "metadata": {},
   "outputs": [
    {
     "data": {
      "text/plain": [
       "['ABC', 'DEF', 'GHI']"
      ]
     },
     "execution_count": 10,
     "metadata": {},
     "output_type": "execute_result"
    }
   ],
   "source": [
    "# list conatining three dictionaries.\n",
    "students=[\n",
    "    {\n",
    "        \"name\":\"ABC\",\n",
    "        \"father name\":\"abcd\",\n",
    "        \"Address\":\"123 hill street\",\n",
    "    },{\n",
    "        \"name\":\"DEF\",\n",
    "        \"father name\":\"defg\",\n",
    "        \"Address\":\"3 upper street london\",\n",
    "    },{\n",
    "        \"name\":\"GHI\",\n",
    "        \"father name\":\"ghij\",\n",
    "        \"Address\":\"Unknown\",\n",
    "    }\n",
    "]\n",
    "\n",
    "map(lambda student:student[\"name\"],students)\n",
    "list(map(lambda student:student[\"name\"],students))"
   ]
  },
  {
   "cell_type": "code",
   "execution_count": 11,
   "id": "c8f3e198",
   "metadata": {},
   "outputs": [
    {
     "data": {
      "text/plain": [
       "[5, 6]"
      ]
     },
     "execution_count": 11,
     "metadata": {},
     "output_type": "execute_result"
    }
   ],
   "source": [
    "# filter method\n",
    "l=[1,2,3,4,5,6]\n",
    "list(filter(lambda x:x>4,l))"
   ]
  },
  {
   "cell_type": "code",
   "execution_count": 12,
   "id": "b445b2db",
   "metadata": {},
   "outputs": [
    {
     "data": {
      "text/plain": [
       "['Apple', 'Orange']"
      ]
     },
     "execution_count": 12,
     "metadata": {},
     "output_type": "execute_result"
    }
   ],
   "source": [
    "fruits = ['Apple','Orange','Mango','Guava']\n",
    "list(filter(lambda fruit:'e' in fruit,fruits))"
   ]
  },
  {
   "cell_type": "code",
   "execution_count": 13,
   "id": "e95792ec",
   "metadata": {},
   "outputs": [
    {
     "data": {
      "text/plain": [
       "28"
      ]
     },
     "execution_count": 13,
     "metadata": {},
     "output_type": "execute_result"
    }
   ],
   "source": [
    "# Reduce\n",
    "import functools\n",
    "l = [1,2,3,4,5,6,7]\n",
    "functools.reduce(lambda x,y:x+y,l)"
   ]
  },
  {
   "cell_type": "code",
   "execution_count": 17,
   "id": "e6693c78",
   "metadata": {},
   "outputs": [
    {
     "data": {
      "text/plain": [
       "7"
      ]
     },
     "execution_count": 17,
     "metadata": {},
     "output_type": "execute_result"
    }
   ],
   "source": [
    "functools.reduce(lambda x,y:x if x>y else y,l) #this will give you the largest number of the list."
   ]
  },
  {
   "cell_type": "code",
   "execution_count": 18,
   "id": "7dbe0083",
   "metadata": {},
   "outputs": [
    {
     "data": {
      "text/plain": [
       "1"
      ]
     },
     "execution_count": 18,
     "metadata": {},
     "output_type": "execute_result"
    }
   ],
   "source": [
    "functools.reduce(lambda x,y:x if x<y else y,l) #this will give you the smallest number of the list."
   ]
  },
  {
   "cell_type": "code",
   "execution_count": 21,
   "id": "7e827943",
   "metadata": {},
   "outputs": [
    {
     "name": "stdout",
     "output_type": "stream",
     "text": [
      "[2, 4, 6, 8, 10, 12]\n"
     ]
    }
   ],
   "source": [
    "# list comprehension\n",
    "# list from another list\n",
    "l = [1,2,3,4,5,6]\n",
    "l1 = [item*2 for item in l]\n",
    "print(l1)"
   ]
  },
  {
   "cell_type": "code",
   "execution_count": 22,
   "id": "b595d0f3",
   "metadata": {},
   "outputs": [
    {
     "name": "stdout",
     "output_type": "stream",
     "text": [
      "[0, 1, 4, 9, 16, 25, 36, 49, 64, 81]\n"
     ]
    }
   ],
   "source": [
    "l2 = [i**2 for i in range(10)]\n",
    "print(l2)"
   ]
  },
  {
   "cell_type": "code",
   "execution_count": 23,
   "id": "f15f344e",
   "metadata": {},
   "outputs": [
    {
     "name": "stdout",
     "output_type": "stream",
     "text": [
      "[1, 9, 25, 49, 81]\n"
     ]
    }
   ],
   "source": [
    "l3 = [i**2 for i in range(10) if i%2!=0]\n",
    "print(l3)"
   ]
  },
  {
   "cell_type": "code",
   "execution_count": 25,
   "id": "df17c47a",
   "metadata": {},
   "outputs": [
    {
     "name": "stdout",
     "output_type": "stream",
     "text": [
      "['Orange']\n"
     ]
    }
   ],
   "source": [
    "l4 = ['Apple','Orange','Mango','Guava']\n",
    "l5 = [fruit for fruit in fruits if fruit[0] == 'O']\n",
    "print(l5)"
   ]
  },
  {
   "cell_type": "code",
   "execution_count": 30,
   "id": "9b631be8",
   "metadata": {},
   "outputs": [
    {
     "name": "stdout",
     "output_type": "stream",
     "text": [
      "{'Name': 'Gaurav', 'Gender': 'male'}\n"
     ]
    }
   ],
   "source": [
    "D = {\"Name\":\"Gaurav\",\"Gender\":\"male\",\"Age\":22}\n",
    "D.items()\n",
    "D1 = {key:value for key,value in D.items() if len(key)>3}\n",
    "print(D1)"
   ]
  },
  {
   "cell_type": "code",
   "execution_count": 35,
   "id": "52b3405f",
   "metadata": {},
   "outputs": [
    {
     "name": "stdout",
     "output_type": "stream",
     "text": [
      "{1: 1, 2: 4, 3: 9, 4: 16, 5: 25, 6: 36, 7: 49}\n"
     ]
    }
   ],
   "source": [
    "listofNumbers = [1,2,3,4,5,6,7]\n",
    "D = {item:item**2 for item in listofNumbers}\n",
    "print(D)"
   ]
  },
  {
   "cell_type": "code",
   "execution_count": 37,
   "id": "986e5931",
   "metadata": {},
   "outputs": [
    {
     "name": "stdout",
     "output_type": "stream",
     "text": [
      "{2: 4, 4: 16, 6: 36}\n"
     ]
    }
   ],
   "source": [
    "D1 = {item:item**2 for item in listofNumbers if item%2 == 0}\n",
    "print(D1)"
   ]
  }
 ],
 "metadata": {
  "kernelspec": {
   "display_name": "Python 3 (ipykernel)",
   "language": "python",
   "name": "python3"
  },
  "language_info": {
   "codemirror_mode": {
    "name": "ipython",
    "version": 3
   },
   "file_extension": ".py",
   "mimetype": "text/x-python",
   "name": "python",
   "nbconvert_exporter": "python",
   "pygments_lexer": "ipython3",
   "version": "3.9.13"
  }
 },
 "nbformat": 4,
 "nbformat_minor": 5
}
