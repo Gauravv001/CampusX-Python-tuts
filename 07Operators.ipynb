{
 "cells": [
  {
   "cell_type": "markdown",
   "id": "881ec15f",
   "metadata": {},
   "source": [
    "# Operators"
   ]
  },
  {
   "cell_type": "markdown",
   "id": "88ad5631",
   "metadata": {},
   "source": [
    "Operators are used to perform operations on variables and values.In python there are following types of operators.\n",
    "1. Arithmetic operators\n",
    "2. Comparison operators\n",
    "3. Logical operators\n",
    "4. Bitwise operators\n",
    "5. Assignment operators\n",
    "6. Identity operators\n",
    "7. Membership operators"
   ]
  },
  {
   "cell_type": "code",
   "execution_count": 2,
   "id": "9e849cba",
   "metadata": {},
   "outputs": [
    {
     "name": "stdout",
     "output_type": "stream",
     "text": [
      "7\n",
      "3\n",
      "10\n",
      "2.5\n",
      "1\n",
      "25\n",
      "2\n"
     ]
    }
   ],
   "source": [
    "#Arithmetic operators\n",
    "\n",
    "x = 5\n",
    "y = 2\n",
    "print(x + y) #Add\n",
    "print(x - y) #Sub\n",
    "print(x * y) #Times\n",
    "print(x / y) #true division\n",
    "print(x % y) #Modulus\n",
    "print(x ** y)#PowerOf\n",
    "print(x // y)#Integer divison"
   ]
  },
  {
   "cell_type": "code",
   "execution_count": 4,
   "id": "cf5cddbf",
   "metadata": {},
   "outputs": [
    {
     "name": "stdout",
     "output_type": "stream",
     "text": [
      "True\n",
      "False\n",
      "True\n",
      "False\n",
      "False\n",
      "True\n"
     ]
    }
   ],
   "source": [
    "#Comparison operators\n",
    "print(x > y)\n",
    "print(x < y)\n",
    "print(x >= y)\n",
    "print(x <= y)\n",
    "print(x == y)\n",
    "print(x != y)"
   ]
  },
  {
   "cell_type": "code",
   "execution_count": 5,
   "id": "d6313c65",
   "metadata": {
    "scrolled": true
   },
   "outputs": [
    {
     "name": "stdout",
     "output_type": "stream",
     "text": [
      "True\n",
      "False\n",
      "False\n"
     ]
    }
   ],
   "source": [
    "#Logical operators\n",
    "\n",
    "x = True\n",
    "y = False\n",
    "\n",
    "print(x or y) #Logical or operator\n",
    "print(x and y) #Logical and operator\n",
    "print(not x)  #Logical not operator"
   ]
  },
  {
   "cell_type": "code",
   "execution_count": 7,
   "id": "569d9d3c",
   "metadata": {
    "scrolled": true
   },
   "outputs": [
    {
     "name": "stdout",
     "output_type": "stream",
     "text": [
      "2\n",
      "3\n",
      "0\n",
      "16\n",
      "-3\n"
     ]
    }
   ],
   "source": [
    "#Bitwise operators (only works on binary value|\n",
    "\n",
    "x = 2 \n",
    "y = 3 \n",
    "print(x & y) #bitwise and\n",
    "print(x | y) #bitwise or\n",
    "print(x >> y) #right shift\n",
    "print(x << y) #left shift\n",
    "print(~x) #one's compliment"
   ]
  },
  {
   "cell_type": "code",
   "execution_count": 11,
   "id": "9079fa42",
   "metadata": {},
   "outputs": [
    {
     "name": "stdout",
     "output_type": "stream",
     "text": [
      "3\n",
      "6\n",
      "3\n",
      "9\n"
     ]
    }
   ],
   "source": [
    "#Assignment operators\n",
    "\n",
    "a = 3\n",
    "print(a)\n",
    "a += 3\n",
    "print(a)\n",
    "a -= 3\n",
    "print(a)\n",
    "a *= 3\n",
    "print(a)\n",
    "#a++ or ++a this is not allowed in python "
   ]
  },
  {
   "cell_type": "code",
   "execution_count": 12,
   "id": "8e2b8c2b",
   "metadata": {},
   "outputs": [
    {
     "name": "stdout",
     "output_type": "stream",
     "text": [
      "False\n"
     ]
    }
   ],
   "source": [
    "#Identity operators { is operator tells us wheather two varibales are at same memo location}\n",
    "\n",
    "a = [1,2,3]\n",
    "b = [1,2,3]\n",
    "\n",
    "print(a is b)"
   ]
  },
  {
   "cell_type": "code",
   "execution_count": 16,
   "id": "63fbf20b",
   "metadata": {},
   "outputs": [
    {
     "name": "stdout",
     "output_type": "stream",
     "text": [
      "False\n",
      "True\n"
     ]
    }
   ],
   "source": [
    "a = \"Hello-world\"\n",
    "b = \"Hello-world\"\n",
    "\n",
    "print(a is b)\n",
    "print(a is not b)"
   ]
  },
  {
   "cell_type": "code",
   "execution_count": 15,
   "id": "a440652a",
   "metadata": {
    "scrolled": true
   },
   "outputs": [
    {
     "name": "stdout",
     "output_type": "stream",
     "text": [
      "True\n"
     ]
    }
   ],
   "source": [
    "a = 'hello'\n",
    "b = 'hello'\n",
    "print(a is b)"
   ]
  },
  {
   "cell_type": "code",
   "execution_count": 19,
   "id": "554fa432",
   "metadata": {},
   "outputs": [
    {
     "name": "stdout",
     "output_type": "stream",
     "text": [
      "True\n",
      "True\n"
     ]
    }
   ],
   "source": [
    "#Membership operators\n",
    "x = \"Delhi\"\n",
    "print(\"D\" in x)\n",
    "print(\"d\" not in x)"
   ]
  }
 ],
 "metadata": {
  "kernelspec": {
   "display_name": "Python 3 (ipykernel)",
   "language": "python",
   "name": "python3"
  },
  "language_info": {
   "codemirror_mode": {
    "name": "ipython",
    "version": 3
   },
   "file_extension": ".py",
   "mimetype": "text/x-python",
   "name": "python",
   "nbconvert_exporter": "python",
   "pygments_lexer": "ipython3",
   "version": "3.9.13"
  }
 },
 "nbformat": 4,
 "nbformat_minor": 5
}
