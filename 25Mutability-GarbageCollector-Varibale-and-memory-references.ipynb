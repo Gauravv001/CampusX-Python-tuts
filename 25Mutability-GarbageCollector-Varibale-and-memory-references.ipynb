{
 "cells": [
  {
   "cell_type": "markdown",
   "id": "b752f5e9",
   "metadata": {},
   "source": [
    "# varible and memory references\n",
    "# ram --> register --> flip-flop --> gates --> diodes"
   ]
  },
  {
   "cell_type": "code",
   "execution_count": 2,
   "id": "e72f9276",
   "metadata": {},
   "outputs": [
    {
     "name": "stdout",
     "output_type": "stream",
     "text": [
      "2722347248016\n",
      "2722347248016\n"
     ]
    }
   ],
   "source": [
    "a = 4\n",
    "print(id(a))\n",
    "print(id(4))"
   ]
  },
  {
   "cell_type": "code",
   "execution_count": 4,
   "id": "a177dd63",
   "metadata": {},
   "outputs": [
    {
     "name": "stdout",
     "output_type": "stream",
     "text": [
      "2722347248048\n",
      "2722347248048\n",
      "2722347248048\n"
     ]
    }
   ],
   "source": [
    "#aliasing \n",
    "a = 5\n",
    "b = a \n",
    "c = b \n",
    "print(id(a))\n",
    "print(id(b))\n",
    "print(id(c))"
   ]
  },
  {
   "cell_type": "code",
   "execution_count": 6,
   "id": "cab05398",
   "metadata": {},
   "outputs": [
    {
     "ename": "NameError",
     "evalue": "name 'a' is not defined",
     "output_type": "error",
     "traceback": [
      "\u001b[1;31m---------------------------------------------------------------------------\u001b[0m",
      "\u001b[1;31mNameError\u001b[0m                                 Traceback (most recent call last)",
      "\u001b[1;32m~\\AppData\\Local\\Temp\\ipykernel_18648\\143776134.py\u001b[0m in \u001b[0;36m<module>\u001b[1;34m\u001b[0m\n\u001b[1;32m----> 1\u001b[1;33m \u001b[1;32mdel\u001b[0m \u001b[0ma\u001b[0m\u001b[1;33m\u001b[0m\u001b[1;33m\u001b[0m\u001b[0m\n\u001b[0m\u001b[0;32m      2\u001b[0m \u001b[0mprint\u001b[0m\u001b[1;33m(\u001b[0m\u001b[0ma\u001b[0m\u001b[1;33m)\u001b[0m\u001b[1;33m\u001b[0m\u001b[1;33m\u001b[0m\u001b[0m\n\u001b[0;32m      3\u001b[0m \u001b[0mprint\u001b[0m\u001b[1;33m(\u001b[0m\u001b[0mb\u001b[0m\u001b[1;33m)\u001b[0m\u001b[1;33m\u001b[0m\u001b[1;33m\u001b[0m\u001b[0m\n\u001b[0;32m      4\u001b[0m \u001b[0mprint\u001b[0m\u001b[1;33m(\u001b[0m\u001b[0mc\u001b[0m\u001b[1;33m)\u001b[0m\u001b[1;33m\u001b[0m\u001b[1;33m\u001b[0m\u001b[0m\n",
      "\u001b[1;31mNameError\u001b[0m: name 'a' is not defined"
     ]
    }
   ],
   "source": [
    "del a #refernce delete not the value \n",
    "print(a)"
   ]
  },
  {
   "cell_type": "code",
   "execution_count": 7,
   "id": "5fe73e69",
   "metadata": {},
   "outputs": [
    {
     "name": "stdout",
     "output_type": "stream",
     "text": [
      "5\n",
      "5\n"
     ]
    }
   ],
   "source": [
    "print(b)\n",
    "print(c)"
   ]
  },
  {
   "cell_type": "code",
   "execution_count": 8,
   "id": "03cab944",
   "metadata": {},
   "outputs": [
    {
     "ename": "NameError",
     "evalue": "name 'b' is not defined",
     "output_type": "error",
     "traceback": [
      "\u001b[1;31m---------------------------------------------------------------------------\u001b[0m",
      "\u001b[1;31mNameError\u001b[0m                                 Traceback (most recent call last)",
      "\u001b[1;32m~\\AppData\\Local\\Temp\\ipykernel_18648\\116824113.py\u001b[0m in \u001b[0;36m<module>\u001b[1;34m\u001b[0m\n\u001b[0;32m      1\u001b[0m \u001b[1;32mdel\u001b[0m \u001b[0mb\u001b[0m\u001b[1;33m\u001b[0m\u001b[1;33m\u001b[0m\u001b[0m\n\u001b[1;32m----> 2\u001b[1;33m \u001b[0mprint\u001b[0m\u001b[1;33m(\u001b[0m\u001b[0mb\u001b[0m\u001b[1;33m)\u001b[0m\u001b[1;33m\u001b[0m\u001b[1;33m\u001b[0m\u001b[0m\n\u001b[0m",
      "\u001b[1;31mNameError\u001b[0m: name 'b' is not defined"
     ]
    }
   ],
   "source": [
    "del b\n",
    "print(b)"
   ]
  },
  {
   "cell_type": "code",
   "execution_count": 9,
   "id": "78a0f9c2",
   "metadata": {},
   "outputs": [
    {
     "name": "stdout",
     "output_type": "stream",
     "text": [
      "5\n"
     ]
    }
   ],
   "source": [
    "print(c)"
   ]
  },
  {
   "cell_type": "code",
   "execution_count": 10,
   "id": "aa94d00e",
   "metadata": {},
   "outputs": [
    {
     "name": "stdout",
     "output_type": "stream",
     "text": [
      "5\n"
     ]
    }
   ],
   "source": [
    "a = 5\n",
    "b = a\n",
    "a = 6\n",
    "print(b)"
   ]
  },
  {
   "cell_type": "code",
   "execution_count": 13,
   "id": "fb25aeff",
   "metadata": {},
   "outputs": [
    {
     "name": "stdout",
     "output_type": "stream",
     "text": [
      "2722432643568\n",
      "2722432643568\n",
      "2722432643568\n",
      "corona\n",
      "corona\n",
      "corona\n"
     ]
    }
   ],
   "source": [
    "import sys\n",
    "a = 'corona'\n",
    "b = a\n",
    "c = b\n",
    "print(id(a))\n",
    "print(id(b))\n",
    "print(id(c))\n",
    "print(a)\n",
    "print(b)\n",
    "print(c)"
   ]
  },
  {
   "cell_type": "code",
   "execution_count": 14,
   "id": "eaa9c0de",
   "metadata": {},
   "outputs": [
    {
     "data": {
      "text/plain": [
       "4"
      ]
     },
     "execution_count": 14,
     "metadata": {},
     "output_type": "execute_result"
    }
   ],
   "source": [
    "sys.getrefcount(a)\n",
    "# no. of varibles + 1 (becoz when this goes to memo. it aslo starts pointing towards that memo.)"
   ]
  },
  {
   "cell_type": "code",
   "execution_count": 15,
   "id": "17700fb2",
   "metadata": {},
   "outputs": [
    {
     "name": "stdout",
     "output_type": "stream",
     "text": [
      "2722347247728\n",
      "2722347247728\n"
     ]
    }
   ],
   "source": [
    "# -5 to 256 same id \n",
    "a = -5\n",
    "b = -5\n",
    "print(id(a))\n",
    "print(id(b))"
   ]
  },
  {
   "cell_type": "code",
   "execution_count": 17,
   "id": "6ad86f9d",
   "metadata": {},
   "outputs": [
    {
     "name": "stdout",
     "output_type": "stream",
     "text": [
      "2722432408080\n",
      "2722432408176\n"
     ]
    }
   ],
   "source": [
    "a = -6\n",
    "b = -6\n",
    "print(id(a))\n",
    "print(id(b))"
   ]
  },
  {
   "cell_type": "code",
   "execution_count": 18,
   "id": "a3e365ac",
   "metadata": {},
   "outputs": [],
   "source": [
    "# Garbage collection\n",
    "#a = 3\n",
    "#b = a \n",
    "#c = b\n",
    "#del a\n",
    "#del b\n",
    "#del c\n",
    "# now what happen here ,we deleted the references but 3 is still present in the memory on the sam hand no varible is pointing to that value.\n",
    "# In python ,just like c/c++ memory freeup is done by manually but in python there is a garbage collector who collects the garabge and do this thing automatically ."
   ]
  },
  {
   "cell_type": "code",
   "execution_count": 20,
   "id": "d282fb11",
   "metadata": {},
   "outputs": [
    {
     "data": {
      "text/plain": [
       "1662"
      ]
     },
     "execution_count": 20,
     "metadata": {},
     "output_type": "execute_result"
    }
   ],
   "source": [
    "#Some wired stuff 1\n",
    "a = 2\n",
    "b = a\n",
    "c = b\n",
    "# we know that id's of these varibles are same.\n",
    "# what happen when we write this.\n",
    "sys.getrefcount(a)\n",
    "# logically saying our ans should be 4 (i.e. 3 + 1)\n",
    "# but our ans is way way different from our logical ans becoz there are so many varibles which are already pointing towards 2."
   ]
  },
  {
   "cell_type": "code",
   "execution_count": 54,
   "id": "999c6953",
   "metadata": {},
   "outputs": [
    {
     "data": {
      "text/plain": [
       "5"
      ]
     },
     "execution_count": 54,
     "metadata": {},
     "output_type": "execute_result"
    }
   ],
   "source": [
    "# let's try this with a uncommon number\n",
    "a = 888\n",
    "b = a\n",
    "c = b \n",
    "sys.getrefcount(a)"
   ]
  },
  {
   "cell_type": "code",
   "execution_count": 55,
   "id": "98f088ca",
   "metadata": {},
   "outputs": [
    {
     "data": {
      "text/plain": [
       "4"
      ]
     },
     "execution_count": 55,
     "metadata": {},
     "output_type": "execute_result"
    }
   ],
   "source": [
    "#Some weird stuff 2\n",
    "d = 888\n",
    "sys.getrefcount(a)"
   ]
  },
  {
   "cell_type": "code",
   "execution_count": 56,
   "id": "8e5f51ce",
   "metadata": {},
   "outputs": [
    {
     "data": {
      "text/plain": [
       "5"
      ]
     },
     "execution_count": 56,
     "metadata": {},
     "output_type": "execute_result"
    }
   ],
   "source": [
    "d = c\n",
    "sys.getrefcount(a)"
   ]
  },
  {
   "cell_type": "code",
   "execution_count": 57,
   "id": "b93a3f6f",
   "metadata": {},
   "outputs": [],
   "source": [
    "# this is aliasing\n",
    "# a = 4\n",
    "# b = a"
   ]
  },
  {
   "cell_type": "code",
   "execution_count": 59,
   "id": "f1c6d849",
   "metadata": {},
   "outputs": [
    {
     "name": "stdout",
     "output_type": "stream",
     "text": [
      "2722347248016\n",
      "2722347248016\n"
     ]
    }
   ],
   "source": [
    "a = 4\n",
    "b = 4\n",
    "print(id(a))\n",
    "print(id(b))"
   ]
  },
  {
   "cell_type": "code",
   "execution_count": 61,
   "id": "7f58706a",
   "metadata": {},
   "outputs": [
    {
     "name": "stdout",
     "output_type": "stream",
     "text": [
      "2722433516368\n",
      "2722433516656\n"
     ]
    }
   ],
   "source": [
    "a = 257\n",
    "b = 257\n",
    "print(id(a))\n",
    "print(id(b))"
   ]
  },
  {
   "cell_type": "code",
   "execution_count": 62,
   "id": "f704aa42",
   "metadata": {},
   "outputs": [
    {
     "name": "stdout",
     "output_type": "stream",
     "text": [
      "2722355078064\n",
      "2722355078064\n"
     ]
    }
   ],
   "source": [
    "#Weird stuff 3\n",
    "#same (valid identifier)\n",
    "a = 'abc'\n",
    "b = 'abc'\n",
    "print(id(a))\n",
    "print(id(b))"
   ]
  },
  {
   "cell_type": "code",
   "execution_count": 65,
   "id": "c6051873",
   "metadata": {},
   "outputs": [
    {
     "name": "stdout",
     "output_type": "stream",
     "text": [
      "2722433546928\n",
      "2722433547312\n"
     ]
    }
   ],
   "source": [
    "# different (not a valid identifier)\n",
    "a = 'abc def ghi'\n",
    "b = 'abc def ghi'\n",
    "print(id(a))\n",
    "print(id(b))"
   ]
  },
  {
   "cell_type": "code",
   "execution_count": 64,
   "id": "1b748a3e",
   "metadata": {},
   "outputs": [
    {
     "name": "stdout",
     "output_type": "stream",
     "text": [
      "2722433546288\n",
      "2722433546288\n"
     ]
    }
   ],
   "source": [
    "# same (valid identifier)\n",
    "a = 'abc_def_ghi'\n",
    "b = 'abc_def_ghi'\n",
    "print(id(a))\n",
    "print(id(b))"
   ]
  },
  {
   "cell_type": "markdown",
   "id": "7688e229",
   "metadata": {},
   "source": [
    "Python's weird behaviour\n",
    "\n",
    "1. Getrefcount anomaly\n",
    "2. -5 to 256\n",
    "3. strings (valid identifier or not)"
   ]
  },
  {
   "cell_type": "code",
   "execution_count": 69,
   "id": "e514552d",
   "metadata": {},
   "outputs": [
    {
     "name": "stdout",
     "output_type": "stream",
     "text": [
      "2722432738688\n",
      "2722347247920\n",
      "2722347247920\n",
      "2722347247952\n",
      "2722347247952\n"
     ]
    }
   ],
   "source": [
    "\n",
    "#how list store in python \n",
    "L = [1,2,3]\n",
    "print(id(L))\n",
    "#this id is pointing to the 1st cell \n",
    "print(id(L[0]))\n",
    "print(id(1))\n",
    "print(id(L[1]))\n",
    "print(id(2))"
   ]
  },
  {
   "cell_type": "code",
   "execution_count": 72,
   "id": "c1544fdb",
   "metadata": {},
   "outputs": [
    {
     "name": "stdout",
     "output_type": "stream",
     "text": [
      "[1, 2, 1]\n",
      "2722347247920\n",
      "2722347247920\n"
     ]
    }
   ],
   "source": [
    "# if you do this\n",
    "L[2] = 1\n",
    "print(L)\n",
    "print(id(L[0]))\n",
    "print(id(L[2]))"
   ]
  },
  {
   "cell_type": "code",
   "execution_count": 74,
   "id": "41d53ab2",
   "metadata": {},
   "outputs": [
    {
     "name": "stdout",
     "output_type": "stream",
     "text": [
      "hello\n",
      "2722428787952\n",
      "helloworld\n",
      "2722432733808\n"
     ]
    }
   ],
   "source": [
    "#Muability - it refers to the ability to change or edit data in it's memory location.\n",
    "#Muability depends on data types\n",
    "#immutable data types ---> string, int ,float ,bool ,complex, tuple etc.\n",
    "#mutable data types ---> list ,dictionary, sets etc.\n",
    "a = 'hello'\n",
    "print(a)\n",
    "print(id(a))\n",
    "a = a + 'world'\n",
    "print(a)\n",
    "print(id(a))"
   ]
  },
  {
   "cell_type": "code",
   "execution_count": 78,
   "id": "1f64f2ea",
   "metadata": {},
   "outputs": [
    {
     "name": "stdout",
     "output_type": "stream",
     "text": [
      "(1, 2, 3)\n",
      "2722427357120\n",
      "(1, 2, 3, 5, 6)\n",
      "2722431897744\n"
     ]
    }
   ],
   "source": [
    "T = (1,2,3)\n",
    "print(T)\n",
    "print(id(T))\n",
    "T = T + (5,6)\n",
    "print(T)\n",
    "print(id(T))"
   ]
  },
  {
   "cell_type": "code",
   "execution_count": 82,
   "id": "1741dd8b",
   "metadata": {},
   "outputs": [
    {
     "name": "stdout",
     "output_type": "stream",
     "text": [
      "[1, 2, 3]\n",
      "2722433555584\n",
      "[1, 2, 3, 4]\n",
      "2722433555584\n"
     ]
    }
   ],
   "source": [
    "L = [1,2,3]\n",
    "print(L)\n",
    "print(id(L))\n",
    "L.append(4)\n",
    "print(L)\n",
    "print(id(L))"
   ]
  },
  {
   "cell_type": "code",
   "execution_count": 83,
   "id": "547a1ff0",
   "metadata": {
    "scrolled": true
   },
   "outputs": [
    {
     "name": "stdout",
     "output_type": "stream",
     "text": [
      "[1, 2, 3, 4]\n",
      "2722433564288\n",
      "[1, 2, 3, 4, 5]\n",
      "2722433564288\n",
      "[1, 2, 3, 4, 5]\n"
     ]
    }
   ],
   "source": [
    "#Side effects of mutability\n",
    "L = [1,2,3,4]\n",
    "print(L)\n",
    "print(id(L))\n",
    "L1 = L\n",
    "L1.append(5)\n",
    "print(L1)\n",
    "print(id(L1))\n",
    "print(L)"
   ]
  },
  {
   "cell_type": "code",
   "execution_count": 84,
   "id": "a85853ba",
   "metadata": {},
   "outputs": [
    {
     "name": "stdout",
     "output_type": "stream",
     "text": [
      "[1, 2, 3, 4]\n",
      "2722433561600\n",
      "[1, 2, 3, 4, 5]\n",
      "2722433560704\n",
      "[1, 2, 3, 4]\n"
     ]
    }
   ],
   "source": [
    "#to avoid this remember whenever you are working with mutable data types always prefer cloning not alisaing\n",
    "#how to do this'\n",
    "L = [1,2,3,4]\n",
    "print(L)\n",
    "print(id(L))\n",
    "L1 = L[:]                  #L1 = L\n",
    "L1.append(5)\n",
    "print(L1)\n",
    "print(id(L1))\n",
    "print(L)"
   ]
  },
  {
   "cell_type": "code",
   "execution_count": 85,
   "id": "fe828308",
   "metadata": {},
   "outputs": [
    {
     "name": "stdout",
     "output_type": "stream",
     "text": [
      "(1, 2, 3, [4, 5])\n",
      "(1, 2, 3, [4, 50])\n"
     ]
    }
   ],
   "source": [
    "# Some more list and tuple stuffs\n",
    "a = (1,2,3,[4,5])\n",
    "print(a)\n",
    "a[-1][-1]=50\n",
    "print(a)\n",
    "# in the end which sort of things we are changing matter's the most."
   ]
  },
  {
   "cell_type": "code",
   "execution_count": 86,
   "id": "330b3982",
   "metadata": {},
   "outputs": [
    {
     "name": "stdout",
     "output_type": "stream",
     "text": [
      "[1, 2, 3, (4, 5)]\n"
     ]
    },
    {
     "ename": "TypeError",
     "evalue": "'tuple' object does not support item assignment",
     "output_type": "error",
     "traceback": [
      "\u001b[1;31m---------------------------------------------------------------------------\u001b[0m",
      "\u001b[1;31mTypeError\u001b[0m                                 Traceback (most recent call last)",
      "\u001b[1;32m~\\AppData\\Local\\Temp\\ipykernel_18648\\3891630008.py\u001b[0m in \u001b[0;36m<module>\u001b[1;34m\u001b[0m\n\u001b[0;32m      1\u001b[0m \u001b[0ma\u001b[0m \u001b[1;33m=\u001b[0m \u001b[1;33m[\u001b[0m\u001b[1;36m1\u001b[0m\u001b[1;33m,\u001b[0m\u001b[1;36m2\u001b[0m\u001b[1;33m,\u001b[0m\u001b[1;36m3\u001b[0m\u001b[1;33m,\u001b[0m\u001b[1;33m(\u001b[0m\u001b[1;36m4\u001b[0m\u001b[1;33m,\u001b[0m\u001b[1;36m5\u001b[0m\u001b[1;33m)\u001b[0m\u001b[1;33m]\u001b[0m\u001b[1;33m\u001b[0m\u001b[1;33m\u001b[0m\u001b[0m\n\u001b[0;32m      2\u001b[0m \u001b[0mprint\u001b[0m\u001b[1;33m(\u001b[0m\u001b[0ma\u001b[0m\u001b[1;33m)\u001b[0m\u001b[1;33m\u001b[0m\u001b[1;33m\u001b[0m\u001b[0m\n\u001b[1;32m----> 3\u001b[1;33m \u001b[0ma\u001b[0m\u001b[1;33m[\u001b[0m\u001b[1;33m-\u001b[0m\u001b[1;36m1\u001b[0m\u001b[1;33m]\u001b[0m\u001b[1;33m[\u001b[0m\u001b[1;33m-\u001b[0m\u001b[1;36m1\u001b[0m\u001b[1;33m]\u001b[0m\u001b[1;33m=\u001b[0m\u001b[1;36m50\u001b[0m\u001b[1;33m\u001b[0m\u001b[1;33m\u001b[0m\u001b[0m\n\u001b[0m\u001b[0;32m      4\u001b[0m \u001b[0mprint\u001b[0m\u001b[1;33m(\u001b[0m\u001b[0ma\u001b[0m\u001b[1;33m)\u001b[0m\u001b[1;33m\u001b[0m\u001b[1;33m\u001b[0m\u001b[0m\n",
      "\u001b[1;31mTypeError\u001b[0m: 'tuple' object does not support item assignment"
     ]
    }
   ],
   "source": [
    "a = [1,2,3,(4,5)]\n",
    "print(a)\n",
    "a[-1][-1]=50\n",
    "print(a)"
   ]
  },
  {
   "cell_type": "code",
   "execution_count": 87,
   "id": "16dd1871",
   "metadata": {},
   "outputs": [
    {
     "name": "stdout",
     "output_type": "stream",
     "text": [
      "[1, 2, 3]\n",
      "2722433555584\n",
      "[1, 2, 3, 4]\n",
      "2722433555584\n",
      "[1, 2, 3, 4, 5, 6]\n",
      "2722432738432\n"
     ]
    }
   ],
   "source": [
    "# In list if you perform concatenation this results in changing the address in the end .\n",
    "# but using append in list will not affect the current address\n",
    "# built in function doesn't affect the address\n",
    "l = [1,2,3]\n",
    "print(l)\n",
    "print(id(l))\n",
    "\n",
    "l.append(4)\n",
    "print(l)\n",
    "print(id(l))\n",
    "\n",
    "l = l + [5,6]\n",
    "print(l)\n",
    "print(id(l))"
   ]
  },
  {
   "cell_type": "code",
   "execution_count": null,
   "id": "46d26270",
   "metadata": {},
   "outputs": [],
   "source": []
  }
 ],
 "metadata": {
  "kernelspec": {
   "display_name": "Python 3 (ipykernel)",
   "language": "python",
   "name": "python3"
  },
  "language_info": {
   "codemirror_mode": {
    "name": "ipython",
    "version": 3
   },
   "file_extension": ".py",
   "mimetype": "text/x-python",
   "name": "python",
   "nbconvert_exporter": "python",
   "pygments_lexer": "ipython3",
   "version": "3.9.13"
  }
 },
 "nbformat": 4,
 "nbformat_minor": 5
}
