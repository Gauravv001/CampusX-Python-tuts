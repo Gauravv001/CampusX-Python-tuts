{
 "cells": [
  {
   "cell_type": "markdown",
   "id": "88dc5fa1",
   "metadata": {},
   "source": [
    "# print"
   ]
  },
  {
   "cell_type": "code",
   "execution_count": 1,
   "id": "dcc979cb",
   "metadata": {},
   "outputs": [
    {
     "name": "stdout",
     "output_type": "stream",
     "text": [
      "Print krdo\n"
     ]
    }
   ],
   "source": [
    "print(\"Print krdo\") "
   ]
  },
  {
   "cell_type": "markdown",
   "id": "583d0f97",
   "metadata": {},
   "source": [
    "# input"
   ]
  },
  {
   "cell_type": "code",
   "execution_count": 2,
   "id": "78bc7b12",
   "metadata": {},
   "outputs": [
    {
     "name": "stdout",
     "output_type": "stream",
     "text": [
      "input do yaarhello\n"
     ]
    },
    {
     "data": {
      "text/plain": [
       "'hello'"
      ]
     },
     "execution_count": 2,
     "metadata": {},
     "output_type": "execute_result"
    }
   ],
   "source": [
    "input(\"input do yaar\")"
   ]
  },
  {
   "cell_type": "markdown",
   "id": "c0c84d8d",
   "metadata": {},
   "source": [
    "# type"
   ]
  },
  {
   "cell_type": "code",
   "execution_count": 3,
   "id": "af63c186",
   "metadata": {},
   "outputs": [
    {
     "data": {
      "text/plain": [
       "int"
      ]
     },
     "execution_count": 3,
     "metadata": {},
     "output_type": "execute_result"
    }
   ],
   "source": [
    "a = 3\n",
    "type(a)"
   ]
  },
  {
   "cell_type": "markdown",
   "id": "e79f660c",
   "metadata": {},
   "source": [
    "# int etc."
   ]
  },
  {
   "cell_type": "code",
   "execution_count": 4,
   "id": "863e2c0d",
   "metadata": {},
   "outputs": [
    {
     "data": {
      "text/plain": [
       "5"
      ]
     },
     "execution_count": 4,
     "metadata": {},
     "output_type": "execute_result"
    }
   ],
   "source": [
    "int('5')"
   ]
  },
  {
   "cell_type": "markdown",
   "id": "f7469f04",
   "metadata": {},
   "source": [
    "# abs"
   ]
  },
  {
   "cell_type": "code",
   "execution_count": 5,
   "id": "a606cb3e",
   "metadata": {},
   "outputs": [
    {
     "data": {
      "text/plain": [
       "4"
      ]
     },
     "execution_count": 5,
     "metadata": {},
     "output_type": "execute_result"
    }
   ],
   "source": [
    "#absolute function means moduluos\n",
    "abs(-4)"
   ]
  },
  {
   "cell_type": "markdown",
   "id": "f953b488",
   "metadata": {},
   "source": [
    "# pow"
   ]
  },
  {
   "cell_type": "code",
   "execution_count": 7,
   "id": "1d6268fa",
   "metadata": {},
   "outputs": [
    {
     "data": {
      "text/plain": [
       "0.125"
      ]
     },
     "execution_count": 7,
     "metadata": {},
     "output_type": "execute_result"
    }
   ],
   "source": [
    "pow(2,-3)"
   ]
  },
  {
   "cell_type": "markdown",
   "id": "85cba9cb",
   "metadata": {},
   "source": [
    "# min/max"
   ]
  },
  {
   "cell_type": "code",
   "execution_count": 13,
   "id": "413bcd08",
   "metadata": {},
   "outputs": [
    {
     "name": "stdout",
     "output_type": "stream",
     "text": [
      "2\n",
      "456\n",
      "d\n",
      "l\n"
     ]
    }
   ],
   "source": [
    "print(min([2,23,456,78]))\n",
    "\n",
    "print(max([2,23,456,78]))\n",
    "\n",
    "# use the concept of ASCII value \n",
    "print(min(\"delhi\"))\n",
    "\n",
    "print(max(\"delhi\"))"
   ]
  },
  {
   "cell_type": "markdown",
   "id": "37dbd6a1",
   "metadata": {},
   "source": [
    "# round"
   ]
  },
  {
   "cell_type": "code",
   "execution_count": 15,
   "id": "cc4e103a",
   "metadata": {},
   "outputs": [
    {
     "name": "stdout",
     "output_type": "stream",
     "text": [
      "3.14\n"
     ]
    }
   ],
   "source": [
    "c = 22/7\n",
    "print(round(c,2))"
   ]
  },
  {
   "cell_type": "markdown",
   "id": "43c1c9f3",
   "metadata": {},
   "source": [
    "# divmod"
   ]
  },
  {
   "cell_type": "code",
   "execution_count": 17,
   "id": "4599d881",
   "metadata": {},
   "outputs": [
    {
     "data": {
      "text/plain": [
       "(2, 1)"
      ]
     },
     "execution_count": 17,
     "metadata": {},
     "output_type": "execute_result"
    }
   ],
   "source": [
    "divmod(5,2)\n",
    "#integer division and modulus divison"
   ]
  },
  {
   "cell_type": "markdown",
   "id": "306b9443",
   "metadata": {},
   "source": [
    "# bin/oct/hex"
   ]
  },
  {
   "cell_type": "code",
   "execution_count": 20,
   "id": "3846fd7f",
   "metadata": {},
   "outputs": [
    {
     "name": "stdout",
     "output_type": "stream",
     "text": [
      "0b10\n",
      "0o2\n"
     ]
    }
   ],
   "source": [
    "print(bin(2))\n",
    "print(oct(2))"
   ]
  },
  {
   "cell_type": "markdown",
   "id": "bf2085a1",
   "metadata": {},
   "source": [
    "# id"
   ]
  },
  {
   "cell_type": "code",
   "execution_count": 21,
   "id": "220cae81",
   "metadata": {},
   "outputs": [
    {
     "data": {
      "text/plain": [
       "1867945372336"
      ]
     },
     "execution_count": 21,
     "metadata": {},
     "output_type": "execute_result"
    }
   ],
   "source": [
    "a = 13\n",
    "id(a)\n",
    "# shows the memory address"
   ]
  },
  {
   "cell_type": "markdown",
   "id": "49c8a8b7",
   "metadata": {},
   "source": [
    "# ord"
   ]
  },
  {
   "cell_type": "code",
   "execution_count": 23,
   "id": "080c8f4a",
   "metadata": {},
   "outputs": [
    {
     "data": {
      "text/plain": [
       "97"
      ]
     },
     "execution_count": 23,
     "metadata": {},
     "output_type": "execute_result"
    }
   ],
   "source": [
    "ord('a')\n",
    "# ascii value return klrdega"
   ]
  },
  {
   "cell_type": "markdown",
   "id": "52f4cf4d",
   "metadata": {},
   "source": [
    "# len"
   ]
  },
  {
   "cell_type": "code",
   "execution_count": 26,
   "id": "db235f6e",
   "metadata": {},
   "outputs": [
    {
     "name": "stdout",
     "output_type": "stream",
     "text": [
      "5\n"
     ]
    },
    {
     "data": {
      "text/plain": [
       "4"
      ]
     },
     "execution_count": 26,
     "metadata": {},
     "output_type": "execute_result"
    }
   ],
   "source": [
    "print(len(\"delhi\"))\n",
    "len([1,2,3,4])"
   ]
  },
  {
   "cell_type": "markdown",
   "id": "19f33e8a",
   "metadata": {},
   "source": [
    "# sum"
   ]
  },
  {
   "cell_type": "code",
   "execution_count": 28,
   "id": "0f7c5c33",
   "metadata": {},
   "outputs": [
    {
     "data": {
      "text/plain": [
       "10"
      ]
     },
     "execution_count": 28,
     "metadata": {},
     "output_type": "execute_result"
    }
   ],
   "source": [
    "sum([1,2,4,3])"
   ]
  },
  {
   "cell_type": "markdown",
   "id": "29d54bf0",
   "metadata": {},
   "source": [
    "# help"
   ]
  },
  {
   "cell_type": "code",
   "execution_count": 30,
   "id": "4b607762",
   "metadata": {},
   "outputs": [
    {
     "name": "stdout",
     "output_type": "stream",
     "text": [
      "Help on built-in function len in module builtins:\n",
      "\n",
      "len(obj, /)\n",
      "    Return the number of items in a container.\n",
      "\n"
     ]
    }
   ],
   "source": [
    "help(len)"
   ]
  }
 ],
 "metadata": {
  "kernelspec": {
   "display_name": "Python 3 (ipykernel)",
   "language": "python",
   "name": "python3"
  },
  "language_info": {
   "codemirror_mode": {
    "name": "ipython",
    "version": 3
   },
   "file_extension": ".py",
   "mimetype": "text/x-python",
   "name": "python",
   "nbconvert_exporter": "python",
   "pygments_lexer": "ipython3",
   "version": "3.9.13"
  }
 },
 "nbformat": 4,
 "nbformat_minor": 5
}
