{
 "cells": [
  {
   "cell_type": "markdown",
   "id": "773c1a06",
   "metadata": {},
   "source": [
    "#Dictioanry in python\n",
    "#Key-Value-pair\n",
    "#{\" \":\" \",\" \":\" \"}"
   ]
  },
  {
   "cell_type": "code",
   "execution_count": 5,
   "id": "4dbe81f9",
   "metadata": {
    "scrolled": true
   },
   "outputs": [
    {
     "name": "stdout",
     "output_type": "stream",
     "text": [
      "{'Name': 'ABC', 'Gender': 'Male'}\n"
     ]
    }
   ],
   "source": [
    "D = {\"Name\":\"ABC\",\"Gender\":\"Male\"}\n",
    "print(D)"
   ]
  },
  {
   "cell_type": "markdown",
   "id": "bd965f4b",
   "metadata": {},
   "source": [
    "#Rule 1 : dictionary has no indexing just like sets.\n",
    "#Rule 2 : dictionary is a mutable data-type just like sets,srtings.\n",
    "#Rule 3 : In dictionary, Keys --> immutable and Values --> Can be mutabe.\n",
    "#Rule 4 : Keys should be unique."
   ]
  },
  {
   "cell_type": "markdown",
   "id": "ca1c9ff0",
   "metadata": {},
   "source": [
    "#Mutable dataTypes --> sets/list/Dictionary.\n",
    "#ImMutable dataTypes --> Strings/tuples/Int/float/boolean/complex."
   ]
  },
  {
   "cell_type": "code",
   "execution_count": 8,
   "id": "5e7ad71c",
   "metadata": {},
   "outputs": [
    {
     "name": "stdout",
     "output_type": "stream",
     "text": [
      "{}\n"
     ]
    }
   ],
   "source": [
    "#Create Dictionary\n",
    "D = {}\n",
    "print(D)  #empty dictionary"
   ]
  },
  {
   "cell_type": "code",
   "execution_count": 9,
   "id": "04417737",
   "metadata": {
    "scrolled": true
   },
   "outputs": [
    {
     "name": "stdout",
     "output_type": "stream",
     "text": [
      "{'Name': 'ABC', 'Gender': 'Male'}\n"
     ]
    }
   ],
   "source": [
    "D = {\"Name\":\"ABC\",\"Gender\":\"Male\"}\n",
    "print(D)"
   ]
  },
  {
   "cell_type": "code",
   "execution_count": 11,
   "id": "129d5199",
   "metadata": {},
   "outputs": [
    {
     "name": "stdout",
     "output_type": "stream",
     "text": [
      "{(1, 2, 3): 'Abc'}\n"
     ]
    }
   ],
   "source": [
    "#Proof of Rule No.3 \n",
    "D1 = {(1,2,3):\"Abc\"} # this works prefectly becoz tuple is tuple is immutable data type.\n",
    "print(D1)"
   ]
  },
  {
   "cell_type": "code",
   "execution_count": 12,
   "id": "d6fbe047",
   "metadata": {
    "scrolled": true
   },
   "outputs": [
    {
     "ename": "TypeError",
     "evalue": "unhashable type: 'list'",
     "output_type": "error",
     "traceback": [
      "\u001b[1;31m---------------------------------------------------------------------------\u001b[0m",
      "\u001b[1;31mTypeError\u001b[0m                                 Traceback (most recent call last)",
      "\u001b[1;32m~\\AppData\\Local\\Temp\\ipykernel_14504\\3454367327.py\u001b[0m in \u001b[0;36m<module>\u001b[1;34m\u001b[0m\n\u001b[1;32m----> 1\u001b[1;33m \u001b[0mD2\u001b[0m \u001b[1;33m=\u001b[0m \u001b[1;33m{\u001b[0m\u001b[1;33m[\u001b[0m\u001b[1;36m1\u001b[0m\u001b[1;33m,\u001b[0m\u001b[1;36m2\u001b[0m\u001b[1;33m,\u001b[0m\u001b[1;36m3\u001b[0m\u001b[1;33m]\u001b[0m\u001b[1;33m:\u001b[0m\u001b[1;34m\"Abc\"\u001b[0m\u001b[1;33m}\u001b[0m\u001b[1;33m\u001b[0m\u001b[1;33m\u001b[0m\u001b[0m\n\u001b[0m",
      "\u001b[1;31mTypeError\u001b[0m: unhashable type: 'list'"
     ]
    }
   ],
   "source": [
    "D2 = {[1,2,3]:\"Abc\"}  #This proves that list is an Mutable data types"
   ]
  },
  {
   "cell_type": "code",
   "execution_count": 14,
   "id": "3a88430a",
   "metadata": {},
   "outputs": [
    {
     "name": "stdout",
     "output_type": "stream",
     "text": [
      "{'Name': 'Def'}\n"
     ]
    }
   ],
   "source": [
    "# if there are multiple keys of same name,this means updating the key value.\n",
    "#Rule no.4 which states that key have unique values.\n",
    "D3 = {\"Name\":\"Abc\",\"Name\":\"Def\"}\n",
    "print(D3)"
   ]
  },
  {
   "cell_type": "code",
   "execution_count": 15,
   "id": "bca97524",
   "metadata": {},
   "outputs": [
    {
     "name": "stdout",
     "output_type": "stream",
     "text": [
      "{'Name': 'Abc', 'College': 'HIT', 'Marks': {'Maths': 77, 'English': 87}}\n"
     ]
    }
   ],
   "source": [
    "#2-D dictionary\n",
    "D4 = {\"Name\":\"Abc\",\"College\":\"HIT\",\"Marks\":{\"Maths\":77,\"English\":87}}\n",
    "print(D4)"
   ]
  },
  {
   "cell_type": "code",
   "execution_count": 17,
   "id": "b96a5db0",
   "metadata": {},
   "outputs": [
    {
     "ename": "KeyError",
     "evalue": "0",
     "output_type": "error",
     "traceback": [
      "\u001b[1;31m---------------------------------------------------------------------------\u001b[0m",
      "\u001b[1;31mKeyError\u001b[0m                                  Traceback (most recent call last)",
      "\u001b[1;32m~\\AppData\\Local\\Temp\\ipykernel_14504\\2370330763.py\u001b[0m in \u001b[0;36m<module>\u001b[1;34m\u001b[0m\n\u001b[0;32m      1\u001b[0m \u001b[1;31m#accessing items from a dictionary.\u001b[0m\u001b[1;33m\u001b[0m\u001b[1;33m\u001b[0m\u001b[0m\n\u001b[0;32m      2\u001b[0m \u001b[0mD\u001b[0m \u001b[1;33m=\u001b[0m \u001b[1;33m{\u001b[0m\u001b[1;34m\"name\"\u001b[0m\u001b[1;33m:\u001b[0m\u001b[1;34m\"abc\"\u001b[0m\u001b[1;33m,\u001b[0m\u001b[1;34m\"gender\"\u001b[0m\u001b[1;33m:\u001b[0m\u001b[1;34m\"male\"\u001b[0m\u001b[1;33m}\u001b[0m\u001b[1;33m\u001b[0m\u001b[1;33m\u001b[0m\u001b[0m\n\u001b[1;32m----> 3\u001b[1;33m \u001b[0mprint\u001b[0m\u001b[1;33m(\u001b[0m\u001b[0mD\u001b[0m\u001b[1;33m[\u001b[0m\u001b[1;36m0\u001b[0m\u001b[1;33m]\u001b[0m\u001b[1;33m)\u001b[0m\u001b[1;33m\u001b[0m\u001b[1;33m\u001b[0m\u001b[0m\n\u001b[0m",
      "\u001b[1;31mKeyError\u001b[0m: 0"
     ]
    }
   ],
   "source": [
    "#accessing items from a dictionary.\n",
    "D = {\"name\":\"abc\",\"gender\":\"male\"}\n",
    "print(D[0])"
   ]
  },
  {
   "cell_type": "code",
   "execution_count": 24,
   "id": "9171b60a",
   "metadata": {
    "scrolled": true
   },
   "outputs": [
    {
     "name": "stdout",
     "output_type": "stream",
     "text": [
      "abc\n",
      "male\n"
     ]
    },
    {
     "data": {
      "text/plain": [
       "'abc'"
      ]
     },
     "execution_count": 24,
     "metadata": {},
     "output_type": "execute_result"
    }
   ],
   "source": [
    "D = {\"name\":\"abc\",\"gender\":\"male\"}\n",
    "print(D['name'])\n",
    "print(D['gender'])\n",
    "\n",
    "\n",
    "#For accessing elements from 1-d dictionary ... we also have \n",
    "D.get('name')"
   ]
  },
  {
   "cell_type": "code",
   "execution_count": 20,
   "id": "6652514e",
   "metadata": {},
   "outputs": [
    {
     "name": "stdout",
     "output_type": "stream",
     "text": [
      "77\n"
     ]
    }
   ],
   "source": [
    "# accessing elements in 2-d dictionary.\n",
    "D4 = {\"Name\":\"Abc\",\"College\":\"HIT\",\"Marks\":{\"Maths\":77,\"English\":87}}\n",
    "print(D4['Marks']['Maths'])"
   ]
  },
  {
   "cell_type": "code",
   "execution_count": 22,
   "id": "2fc750b5",
   "metadata": {},
   "outputs": [
    {
     "name": "stdout",
     "output_type": "stream",
     "text": [
      "{'name': 'abc', 'gender': 'male'}\n",
      "{'name': 'def', 'gender': 'male'}\n"
     ]
    }
   ],
   "source": [
    "# Editing\n",
    "D = {\"name\":\"abc\",\"gender\":\"male\"}\n",
    "print(D)\n",
    "D['name']='def'\n",
    "print(D)"
   ]
  },
  {
   "cell_type": "code",
   "execution_count": 23,
   "id": "317a24ea",
   "metadata": {},
   "outputs": [
    {
     "name": "stdout",
     "output_type": "stream",
     "text": [
      "{'Name': 'Abc', 'College': 'HIT', 'Marks': {'Maths': 77, 'English': 87}}\n",
      "{'Name': 'Abc', 'College': 'HIT', 'Marks': {'Maths': 80, 'English': 87}}\n"
     ]
    }
   ],
   "source": [
    "D4 = {\"Name\":\"Abc\",\"College\":\"HIT\",\"Marks\":{\"Maths\":77,\"English\":87}}\n",
    "print(D4)\n",
    "D4['Marks']['Maths'] = 80\n",
    "print(D4)"
   ]
  },
  {
   "cell_type": "code",
   "execution_count": 25,
   "id": "0370372d",
   "metadata": {},
   "outputs": [
    {
     "name": "stdout",
     "output_type": "stream",
     "text": [
      "{'name': 'abc', 'gender': 'male'}\n",
      "{'name': 'abc', 'gender': 'male', 'Age': 33}\n"
     ]
    }
   ],
   "source": [
    "# add new key-value pairs.\n",
    "D = {\"name\":\"abc\",\"gender\":\"male\"}\n",
    "print(D)\n",
    "D['Age']=33\n",
    "print(D)"
   ]
  },
  {
   "cell_type": "code",
   "execution_count": 27,
   "id": "a0ec5f50",
   "metadata": {},
   "outputs": [
    {
     "name": "stdout",
     "output_type": "stream",
     "text": [
      "{'Name': 'Abc', 'College': 'HIT', 'Marks': {'Maths': 77, 'English': 87}}\n",
      "{'Name': 'Abc', 'College': 'HIT', 'Marks': {'Maths': 77, 'English': 87, 'Science': 89}}\n"
     ]
    }
   ],
   "source": [
    "D4 = {\"Name\":\"Abc\",\"College\":\"HIT\",\"Marks\":{\"Maths\":77,\"English\":87}}\n",
    "print(D4)\n",
    "D4['Marks']['Science'] = 89\n",
    "print(D4)"
   ]
  },
  {
   "cell_type": "code",
   "execution_count": 28,
   "id": "132ab4d3",
   "metadata": {},
   "outputs": [],
   "source": [
    "# delete \n",
    "# you can delete whole dictionary or just only one key value pair as per your choice."
   ]
  },
  {
   "cell_type": "code",
   "execution_count": 2,
   "id": "8d4712a0",
   "metadata": {},
   "outputs": [
    {
     "name": "stdout",
     "output_type": "stream",
     "text": [
      "{}\n"
     ]
    },
    {
     "ename": "NameError",
     "evalue": "name 'D' is not defined",
     "output_type": "error",
     "traceback": [
      "\u001b[1;31m---------------------------------------------------------------------------\u001b[0m",
      "\u001b[1;31mNameError\u001b[0m                                 Traceback (most recent call last)",
      "\u001b[1;32m~\\AppData\\Local\\Temp\\ipykernel_13332\\2093437643.py\u001b[0m in \u001b[0;36m<module>\u001b[1;34m\u001b[0m\n\u001b[0;32m      2\u001b[0m \u001b[0mprint\u001b[0m\u001b[1;33m(\u001b[0m\u001b[0mD\u001b[0m\u001b[1;33m)\u001b[0m\u001b[1;33m\u001b[0m\u001b[1;33m\u001b[0m\u001b[0m\n\u001b[0;32m      3\u001b[0m \u001b[1;32mdel\u001b[0m \u001b[0mD\u001b[0m\u001b[1;33m\u001b[0m\u001b[1;33m\u001b[0m\u001b[0m\n\u001b[1;32m----> 4\u001b[1;33m \u001b[0mprint\u001b[0m\u001b[1;33m(\u001b[0m\u001b[0mD\u001b[0m\u001b[1;33m)\u001b[0m\u001b[1;33m\u001b[0m\u001b[1;33m\u001b[0m\u001b[0m\n\u001b[0m",
      "\u001b[1;31mNameError\u001b[0m: name 'D' is not defined"
     ]
    }
   ],
   "source": [
    "D = {}\n",
    "print(D)\n",
    "del D\n",
    "print(D)"
   ]
  },
  {
   "cell_type": "code",
   "execution_count": 5,
   "id": "57c3016f",
   "metadata": {},
   "outputs": [
    {
     "name": "stdout",
     "output_type": "stream",
     "text": [
      "{'name': 'abc', 'gender': 'male', 'age': '92'}\n",
      "{'name': 'abc', 'age': '92'}\n"
     ]
    }
   ],
   "source": [
    "#Ypu can also delete individual key value pairs.\n",
    "D = {'name':'abc','gender':'male','age':'92'}\n",
    "print(D)\n",
    "del D['gender']\n",
    "print(D)"
   ]
  },
  {
   "cell_type": "code",
   "execution_count": 7,
   "id": "6b834513",
   "metadata": {},
   "outputs": [
    {
     "name": "stdout",
     "output_type": "stream",
     "text": [
      "{'name': 'abc', 'gender': 'male', 'age': '92'}\n",
      "{}\n"
     ]
    }
   ],
   "source": [
    "# clear function (Dictionary is converted into empty dict.)\n",
    "D = {'name':'abc','gender':'male','age':'92'}\n",
    "print(D)\n",
    "D.clear()\n",
    "print(D)"
   ]
  },
  {
   "cell_type": "code",
   "execution_count": 10,
   "id": "37836b93",
   "metadata": {},
   "outputs": [
    {
     "name": "stdout",
     "output_type": "stream",
     "text": [
      "{(1, 2, 3): 'abc'}\n",
      "{'Name': 'def'}\n",
      "{'Name': 'Abc', 'College': 'HIT', 'Marks': {'Maths': 77, 'English': 87, 'Science': 89}}\n"
     ]
    }
   ],
   "source": [
    "#Operations are available\n",
    "D1 = {(1,2,3):'abc'}\n",
    "print(D1)\n",
    "D2 = {'Name':'def'}\n",
    "print(D2)\n",
    "3 = {'Name': 'Abc', 'College': 'HIT', 'Marks': {'Maths': 77, 'English': 87, 'Science': 89}}\n",
    "print(D3)"
   ]
  },
  {
   "cell_type": "code",
   "execution_count": 11,
   "id": "3452d3b3",
   "metadata": {},
   "outputs": [
    {
     "ename": "TypeError",
     "evalue": "unsupported operand type(s) for +: 'dict' and 'dict'",
     "output_type": "error",
     "traceback": [
      "\u001b[1;31m---------------------------------------------------------------------------\u001b[0m",
      "\u001b[1;31mTypeError\u001b[0m                                 Traceback (most recent call last)",
      "\u001b[1;32m~\\AppData\\Local\\Temp\\ipykernel_13332\\2167298772.py\u001b[0m in \u001b[0;36m<module>\u001b[1;34m\u001b[0m\n\u001b[1;32m----> 1\u001b[1;33m \u001b[0mprint\u001b[0m\u001b[1;33m(\u001b[0m\u001b[0mD1\u001b[0m \u001b[1;33m+\u001b[0m \u001b[0mD2\u001b[0m\u001b[1;33m)\u001b[0m\u001b[1;33m\u001b[0m\u001b[1;33m\u001b[0m\u001b[0m\n\u001b[0m\u001b[0;32m      2\u001b[0m \u001b[0mprint\u001b[0m\u001b[1;33m(\u001b[0m\u001b[0mD1\u001b[0m \u001b[1;33m*\u001b[0m \u001b[1;36m3\u001b[0m\u001b[1;33m)\u001b[0m\u001b[1;33m\u001b[0m\u001b[1;33m\u001b[0m\u001b[0m\n",
      "\u001b[1;31mTypeError\u001b[0m: unsupported operand type(s) for +: 'dict' and 'dict'"
     ]
    }
   ],
   "source": [
    "print(D1 + D2)\n",
    "print(D1 * 3)"
   ]
  },
  {
   "cell_type": "code",
   "execution_count": 12,
   "id": "6c538e7b",
   "metadata": {},
   "outputs": [
    {
     "name": "stdout",
     "output_type": "stream",
     "text": [
      "Name\n",
      "College\n",
      "Marks\n"
     ]
    }
   ],
   "source": [
    "#Loop \n",
    "for i in D3:\n",
    "    print(i)\n",
    "#point to be noted here is whenever you run a loop on dictionary you will alway get Keys not the key-value."
   ]
  },
  {
   "cell_type": "code",
   "execution_count": 13,
   "id": "d210c84e",
   "metadata": {},
   "outputs": [
    {
     "name": "stdout",
     "output_type": "stream",
     "text": [
      "Name Abc\n",
      "College HIT\n",
      "Marks {'Maths': 77, 'English': 87, 'Science': 89}\n"
     ]
    }
   ],
   "source": [
    "#to fetch the value this is the synatx.\n",
    "for i in D3:\n",
    "    print(i,D3[i])"
   ]
  },
  {
   "cell_type": "code",
   "execution_count": 20,
   "id": "574cb03b",
   "metadata": {},
   "outputs": [
    {
     "name": "stdout",
     "output_type": "stream",
     "text": [
      "True\n",
      "False\n",
      "True\n"
     ]
    }
   ],
   "source": [
    "#membership\n",
    "print('Name' in D3)\n",
    "print('Abc' in D3)\n",
    "print('Abc' in D3['Name'])"
   ]
  },
  {
   "cell_type": "code",
   "execution_count": 27,
   "id": "2c8c1581",
   "metadata": {},
   "outputs": [
    {
     "name": "stdout",
     "output_type": "stream",
     "text": [
      "{'Name': 'Abc', 'College': 'HIT', 'Marks': {'Maths': 77, 'English': 87, 'Science': 89}}\n",
      "3\n",
      "College\n",
      "Name\n",
      "['College', 'Marks', 'Name']\n",
      "['Name', 'Marks', 'College']\n",
      "dict_keys(['Name', 'College', 'Marks'])\n",
      "dict_values(['Abc', 'HIT', {'Maths': 77, 'English': 87, 'Science': 89}])\n"
     ]
    }
   ],
   "source": [
    "#functions\n",
    "D3 = {'Name': 'Abc', 'College': 'HIT', 'Marks': {'Maths': 77, 'English': 87, 'Science': 89}}\n",
    "print(D3)\n",
    "print(len(D3))\n",
    "print(min(D3))\n",
    "print(max(D3))\n",
    "print(sorted(D3))\n",
    "print(sorted(D3,reverse=True))\n",
    "print(D3.keys())\n",
    "print(D3.values())"
   ]
  }
 ],
 "metadata": {
  "kernelspec": {
   "display_name": "Python 3 (ipykernel)",
   "language": "python",
   "name": "python3"
  },
  "language_info": {
   "codemirror_mode": {
    "name": "ipython",
    "version": 3
   },
   "file_extension": ".py",
   "mimetype": "text/x-python",
   "name": "python",
   "nbconvert_exporter": "python",
   "pygments_lexer": "ipython3",
   "version": "3.9.13"
  }
 },
 "nbformat": 4,
 "nbformat_minor": 5
}
