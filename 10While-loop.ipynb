{
 "cells": [
  {
   "cell_type": "markdown",
   "id": "d75d1895",
   "metadata": {},
   "source": [
    "# While loop and For loop"
   ]
  },
  {
   "cell_type": "markdown",
   "id": "96ac6a8c",
   "metadata": {},
   "source": [
    "#While-Loop in other languages\n",
    "while(condition){\n",
    "    code line1;\n",
    "    code line2;\n",
    "    incre./decrement\n",
    "}"
   ]
  },
  {
   "cell_type": "markdown",
   "id": "82a9eddc",
   "metadata": {},
   "source": [
    "#While-Loop in python\n",
    "while condition:\n",
    "    code"
   ]
  },
  {
   "cell_type": "code",
   "execution_count": 1,
   "id": "6ea3e3df",
   "metadata": {},
   "outputs": [
    {
     "name": "stdout",
     "output_type": "stream",
     "text": [
      "enter the number2\n",
      "2 * 1 = 2\n",
      "2 * 2 = 4\n",
      "2 * 3 = 6\n",
      "2 * 4 = 8\n",
      "2 * 5 = 10\n",
      "2 * 6 = 12\n",
      "2 * 7 = 14\n",
      "2 * 8 = 16\n",
      "2 * 9 = 18\n",
      "2 * 10 = 20\n"
     ]
    }
   ],
   "source": [
    "number = int(input(\"enter the number\"))\n",
    "i = 1\n",
    "while i<11:\n",
    "    print(number,\"*\",i,\"=\",number * i)\n",
    "    i+=1"
   ]
  }
 ],
 "metadata": {
  "kernelspec": {
   "display_name": "Python 3 (ipykernel)",
   "language": "python",
   "name": "python3"
  },
  "language_info": {
   "codemirror_mode": {
    "name": "ipython",
    "version": 3
   },
   "file_extension": ".py",
   "mimetype": "text/x-python",
   "name": "python",
   "nbconvert_exporter": "python",
   "pygments_lexer": "ipython3",
   "version": "3.9.13"
  }
 },
 "nbformat": 4,
 "nbformat_minor": 5
}
