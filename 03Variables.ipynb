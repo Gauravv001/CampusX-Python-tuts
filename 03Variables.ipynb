{
 "cells": [
  {
   "cell_type": "code",
   "execution_count": null,
   "id": "0a920923",
   "metadata": {},
   "outputs": [],
   "source": [
    "#Varibales are the containers for future use"
   ]
  },
  {
   "cell_type": "code",
   "execution_count": 11,
   "id": "6a6a5d27",
   "metadata": {},
   "outputs": [
    {
     "name": "stdout",
     "output_type": "stream",
     "text": [
      "zxdemon\n"
     ]
    }
   ],
   "source": [
    "name = 'zxdemon'\n",
    "print(name)"
   ]
  },
  {
   "cell_type": "code",
   "execution_count": null,
   "id": "1980487a",
   "metadata": {},
   "outputs": [],
   "source": [
    "# No variable declaration in python\n",
    "# Also known as dyamic typing --> (PHP lang aslo obeys this)\n",
    "# opposite feature is static typing (you have to specify the data type like in any other lang)"
   ]
  },
  {
   "cell_type": "code",
   "execution_count": 12,
   "id": "b8964c88",
   "metadata": {},
   "outputs": [
    {
     "name": "stdout",
     "output_type": "stream",
     "text": [
      "mai name stored hoon aur string type ka hoon\n"
     ]
    }
   ],
   "source": [
    "name = 'mai name stored hoon aur string type ka hoon'\n",
    "print(name)"
   ]
  },
  {
   "cell_type": "code",
   "execution_count": 13,
   "id": "5ea19378",
   "metadata": {},
   "outputs": [
    {
     "name": "stdout",
     "output_type": "stream",
     "text": [
      "4\n"
     ]
    }
   ],
   "source": [
    "name = 4\n",
    "print(name)"
   ]
  },
  {
   "cell_type": "code",
   "execution_count": 15,
   "id": "86e41501",
   "metadata": {},
   "outputs": [
    {
     "name": "stdout",
     "output_type": "stream",
     "text": [
      "True\n"
     ]
    }
   ],
   "source": [
    "name = True\n",
    "print(name)"
   ]
  },
  {
   "cell_type": "code",
   "execution_count": null,
   "id": "1016b938",
   "metadata": {},
   "outputs": [],
   "source": [
    "# this above feature is known as Dynamic Binding which is commonly used in python(ek point pe vho int ho skta hai , boolen , float kuch bhi ho skta hai)\n",
    "# opposite of this is static binding which is seen in c++,c and java."
   ]
  },
  {
   "cell_type": "code",
   "execution_count": 16,
   "id": "a2009ab7",
   "metadata": {},
   "outputs": [
    {
     "name": "stdout",
     "output_type": "stream",
     "text": [
      "5\n",
      "6\n",
      "7\n"
     ]
    }
   ],
   "source": [
    "#special syntax\n",
    "a = 4; b = 5; c = 7\n",
    "print(a)\n",
    "print(b)\n",
    "print(c)"
   ]
  },
  {
   "cell_type": "code",
   "execution_count": 18,
   "id": "18b1f74c",
   "metadata": {},
   "outputs": [
    {
     "name": "stdout",
     "output_type": "stream",
     "text": [
      "4\n",
      "5\n",
      "6\n"
     ]
    }
   ],
   "source": [
    "a,b,c = 4,5,6\n",
    "print(a)\n",
    "print(b)\n",
    "print(c)"
   ]
  }
 ],
 "metadata": {
  "kernelspec": {
   "display_name": "Python 3 (ipykernel)",
   "language": "python",
   "name": "python3"
  },
  "language_info": {
   "codemirror_mode": {
    "name": "ipython",
    "version": 3
   },
   "file_extension": ".py",
   "mimetype": "text/x-python",
   "name": "python",
   "nbconvert_exporter": "python",
   "pygments_lexer": "ipython3",
   "version": "3.9.13"
  }
 },
 "nbformat": 4,
 "nbformat_minor": 5
}
