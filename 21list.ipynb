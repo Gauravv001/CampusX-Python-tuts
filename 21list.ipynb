{
 "cells": [
  {
   "cell_type": "markdown",
   "id": "aee1c36b",
   "metadata": {},
   "source": [
    "## List \n",
    "# What is a list\n",
    "# List vs Array\n",
    "# Create\n",
    "# Access\n",
    "# Edit \n",
    "# Delete \n",
    "# Operations\n",
    "# Functions\n",
    "\n",
    "\n",
    "--> List is heterogenous because you may have different data types inside a list\n",
    "--> Arrays are homogenous in nature, as it contains same types of data.\n",
    "--> Elements present in array are in contiguous memory location.\n",
    "--> Arrays are much faster as compared to list\n",
    "--> list are more programmer friendly "
   ]
  },
  {
   "cell_type": "code",
   "execution_count": 3,
   "id": "fd43b141",
   "metadata": {},
   "outputs": [
    {
     "name": "stdout",
     "output_type": "stream",
     "text": [
      "[]\n"
     ]
    }
   ],
   "source": [
    "# empty list\n",
    "l = []\n",
    "print(l)"
   ]
  },
  {
   "cell_type": "code",
   "execution_count": 4,
   "id": "3b2e88c0",
   "metadata": {},
   "outputs": [
    {
     "name": "stdout",
     "output_type": "stream",
     "text": [
      "[1, 2, 3, 4, 5]\n"
     ]
    }
   ],
   "source": [
    "# homogenous list\n",
    "l = [1,2,3,4,5]\n",
    "print(l)"
   ]
  },
  {
   "cell_type": "code",
   "execution_count": 7,
   "id": "d2603474",
   "metadata": {},
   "outputs": [
    {
     "name": "stdout",
     "output_type": "stream",
     "text": [
      "['hello', 4, 5.6, True, (5+6j)]\n"
     ]
    }
   ],
   "source": [
    "#Hetrogenous list\n",
    "l = ['hello',4,5.6,True,5+6j]\n",
    "print(l)"
   ]
  },
  {
   "cell_type": "code",
   "execution_count": 9,
   "id": "01cc3767",
   "metadata": {},
   "outputs": [
    {
     "name": "stdout",
     "output_type": "stream",
     "text": [
      "[1, 2, 3, [4, 5]]\n"
     ]
    }
   ],
   "source": [
    "#Multidimensional list\n",
    "# 2-D list\n",
    "l = [1,2,3,[4,5]]\n",
    "print(l)"
   ]
  },
  {
   "cell_type": "code",
   "execution_count": 10,
   "id": "03a16e3d",
   "metadata": {},
   "outputs": [
    {
     "name": "stdout",
     "output_type": "stream",
     "text": [
      "[1, 2, [3, 4, 5, [6, 7]], 8, 9, 10]\n"
     ]
    }
   ],
   "source": [
    "#3-d list\n",
    "l = [1,2,[3,4,5,[6,7]],8,9,10]\n",
    "print(l)"
   ]
  },
  {
   "cell_type": "code",
   "execution_count": 12,
   "id": "1f8a3e98",
   "metadata": {},
   "outputs": [
    {
     "name": "stdout",
     "output_type": "stream",
     "text": [
      "['d', 'e', 'l', 'h', 'i']\n"
     ]
    }
   ],
   "source": [
    "# list by using type conversion\n",
    "l = list(\"delhi\")\n",
    "print(l)"
   ]
  },
  {
   "cell_type": "code",
   "execution_count": 13,
   "id": "bc7bad91",
   "metadata": {},
   "outputs": [
    {
     "name": "stdout",
     "output_type": "stream",
     "text": [
      "[]\n"
     ]
    }
   ],
   "source": [
    "l = list()\n",
    "print(l)"
   ]
  },
  {
   "cell_type": "code",
   "execution_count": 18,
   "id": "6c9b2351",
   "metadata": {},
   "outputs": [
    {
     "name": "stdout",
     "output_type": "stream",
     "text": [
      "[1, 2, 3, 4, 5]\n",
      "1\n",
      "2\n",
      "3\n",
      "4\n",
      "5\n",
      "5\n",
      "4\n",
      "3\n",
      "2\n",
      "1\n"
     ]
    }
   ],
   "source": [
    "# Access\n",
    "l = [1,2,3,4,5]\n",
    "print(l)\n",
    "print(l[0])\n",
    "print(l[1])\n",
    "print(l[2])\n",
    "print(l[3])\n",
    "print(l[4])\n",
    "print(l[-1])\n",
    "print(l[-2])\n",
    "print(l[-3])\n",
    "print(l[-4])\n",
    "print(l[-5])"
   ]
  },
  {
   "cell_type": "code",
   "execution_count": 23,
   "id": "8a70643b",
   "metadata": {},
   "outputs": [
    {
     "name": "stdout",
     "output_type": "stream",
     "text": [
      "[1, 1.1, 1.11, 1.111]\n",
      "[1.1, 1.11]\n",
      "[1.111, 1.11, 1.1, 1]\n"
     ]
    }
   ],
   "source": [
    "l = [1,1.1,1.11,1.111]\n",
    "print(l)\n",
    "print(l[1:3])\n",
    "print(l[::-1])\n"
   ]
  },
  {
   "cell_type": "code",
   "execution_count": 30,
   "id": "77dbb5ef",
   "metadata": {},
   "outputs": [
    {
     "name": "stdout",
     "output_type": "stream",
     "text": [
      "[1, 2, 3, [4, 5]]\n",
      "[4, 5]\n",
      "4\n",
      "5\n",
      "5\n",
      "4\n"
     ]
    }
   ],
   "source": [
    "# accessing elements from a 2-d list\n",
    "l = [1,2,3,[4,5]]\n",
    "print(l)\n",
    "print(l[3])\n",
    "print(l[3][0])\n",
    "print(l[3][1])\n",
    "print(l[3][-1])\n",
    "print(l[3][-2])"
   ]
  },
  {
   "cell_type": "code",
   "execution_count": 45,
   "id": "85bdfe71",
   "metadata": {},
   "outputs": [
    {
     "name": "stdout",
     "output_type": "stream",
     "text": [
      "[[[1, 2], [3, 4]], [[5, 6], [7, 8]]]\n",
      "1\n",
      "2\n",
      "3\n",
      "4\n",
      "5\n",
      "6\n",
      "7\n",
      "8\n"
     ]
    }
   ],
   "source": [
    "# jitne dimensions utne hi brackets\n",
    "l = [[[1,2],[3,4]],[[5,6],[7,8]]]\n",
    "print(l)\n",
    "print(l[0][0][0])\n",
    "print(l[0][0][1])\n",
    "print(l[0][1][0])\n",
    "print(l[0][1][1])\n",
    "print(l[1][0][0])\n",
    "print(l[1][0][1])\n",
    "print(l[1][1][0])\n",
    "print(l[1][1][1])"
   ]
  },
  {
   "cell_type": "code",
   "execution_count": 48,
   "id": "cf3ae82c",
   "metadata": {},
   "outputs": [
    {
     "name": "stdout",
     "output_type": "stream",
     "text": [
      "[1, 2, 3, 4, 5]\n",
      "[100, 2, 3, 4, 5]\n",
      "[100, 2, 3, 4, 500]\n",
      "[100, 200, 300, 400, 500]\n"
     ]
    }
   ],
   "source": [
    "# edit items in list\n",
    "l = [1,2,3,4,5]\n",
    "print(l)\n",
    "#list in python are mutable i.e. you can edit them easily\n",
    "l[0] = 100\n",
    "print(l)\n",
    "l[-1]=500\n",
    "print(l)\n",
    "l[1:4] = [200,300,400]\n",
    "print(l)"
   ]
  },
  {
   "cell_type": "markdown",
   "id": "f40e1d8b",
   "metadata": {},
   "source": [
    "#ADD items in list\n",
    "1. Add\n",
    "2. Append\n",
    "3. Extend\n",
    "4. Insert"
   ]
  },
  {
   "cell_type": "code",
   "execution_count": 56,
   "id": "026ba2ba",
   "metadata": {},
   "outputs": [
    {
     "name": "stdout",
     "output_type": "stream",
     "text": [
      "[1, 2, 3, 4, 5]\n",
      "[1, 2, 3, 4, 5, 6]\n",
      "[1, 2, 3, 4, 5, 6, 'hello']\n"
     ]
    }
   ],
   "source": [
    "l = [1,2,3,4,5]\n",
    "print(l)\n",
    "l.append(6)\n",
    "print(l)\n",
    "l.append(\"hello\")\n",
    "print(l)"
   ]
  },
  {
   "cell_type": "code",
   "execution_count": 62,
   "id": "25b9cb09",
   "metadata": {},
   "outputs": [
    {
     "name": "stdout",
     "output_type": "stream",
     "text": [
      "[1, 2, 3, 4, 5]\n",
      "[1, 2, 3, 4, 5, 6, 7, 8]\n",
      "[1, 2, 3, 4, 5, 6, 7, 8, [9, 10]]\n",
      "[1, 2, 3, 4, 5, 6, 7, 8, [9, 10], 'g', 'o', 'a']\n"
     ]
    }
   ],
   "source": [
    "# to add multiple items used \"extend\"\n",
    "l = [1,2,3,4,5]\n",
    "print(l)\n",
    "l.extend([6,7,8])\n",
    "print(l)\n",
    "l.append([9,10])\n",
    "print(l)\n",
    "l.extend(\"goa\")\n",
    "print(l)"
   ]
  },
  {
   "cell_type": "code",
   "execution_count": 65,
   "id": "2b20c7ab",
   "metadata": {},
   "outputs": [
    {
     "name": "stdout",
     "output_type": "stream",
     "text": [
      "[1, 2, 3, 4, 5]\n",
      "[1, 'world', 2, 3, 4, 5]\n"
     ]
    }
   ],
   "source": [
    "# to insert item at a specific index\n",
    "l = [1,2,3,4,5]\n",
    "print(l)\n",
    "l.insert(1,\"world\")\n",
    "print(l) "
   ]
  },
  {
   "cell_type": "code",
   "execution_count": null,
   "id": "1ea653a2",
   "metadata": {},
   "outputs": [],
   "source": [
    "#Delete \n",
    "# 1. del\n",
    "# 2. remove\n",
    "# 3. pop\n",
    "# 4. clear"
   ]
  },
  {
   "cell_type": "code",
   "execution_count": 69,
   "id": "85ab6b4e",
   "metadata": {},
   "outputs": [
    {
     "name": "stdout",
     "output_type": "stream",
     "text": [
      "[1, 2, 3, 4, 5, 6, 7, 8, [9, 10], 'g', 'o', 'a']\n",
      "[1, 3, 4, 5, 6, 7, 8, [9, 10], 'g', 'o', 'a']\n",
      "[1, 3, 4, 5, 6, 7, 8, 'g', 'o', 'a']\n",
      "[1, 3, 4, 5, 6, 7, 8]\n"
     ]
    }
   ],
   "source": [
    "l = [1, 2, 3, 4, 5, 6, 7, 8, [9, 10], 'g', 'o', 'a']\n",
    "print(l)\n",
    "del l[1]\n",
    "print(l)\n",
    "del l[-4]\n",
    "print(l)\n",
    "del l[-3:]\n",
    "print(l)"
   ]
  },
  {
   "cell_type": "code",
   "execution_count": 72,
   "id": "2c3d8c1c",
   "metadata": {},
   "outputs": [
    {
     "name": "stdout",
     "output_type": "stream",
     "text": [
      "[1, 2, 3, 4, 5, 6, 7, 8, [9, 10], 'g', 'o', 'a']\n",
      "[1, 2, 3, 4, 5, 6, 7, 8, [9, 10], 'o', 'a']\n"
     ]
    }
   ],
   "source": [
    "# if you don't know the index position of the item but know the item is there in the list --> remove\n",
    "l = [1, 2, 3, 4, 5, 6, 7, 8, [9, 10], 'g', 'o', 'a']\n",
    "print(l)\n",
    "l.remove(\"g\")\n",
    "print(l) "
   ]
  },
  {
   "cell_type": "code",
   "execution_count": 74,
   "id": "de33150d",
   "metadata": {},
   "outputs": [
    {
     "name": "stdout",
     "output_type": "stream",
     "text": [
      "[1, 2, 3, 4, 5, 6, 7, 8, [9, 10], 'g', 'o', 'a']\n",
      "[1, 2, 3, 4, 5, 6, 7, 8, [9, 10], 'g', 'o']\n",
      "[1, 2, 3, 4, 5, 6, 7, 8, [9, 10], 'g']\n"
     ]
    }
   ],
   "source": [
    "# pop --> will always delete the last item.\n",
    "l = [1, 2, 3, 4, 5, 6, 7, 8, [9, 10], 'g', 'o', 'a']\n",
    "print(l)\n",
    "l.pop()\n",
    "print(l)\n",
    "l.pop()\n",
    "print(l)"
   ]
  },
  {
   "cell_type": "code",
   "execution_count": 75,
   "id": "5f45de92",
   "metadata": {},
   "outputs": [
    {
     "name": "stdout",
     "output_type": "stream",
     "text": [
      "[1, 2, 3, 4, 5, 6, 7, 8, [9, 10], 'g', 'o', 'a']\n",
      "[]\n"
     ]
    }
   ],
   "source": [
    "# clear --> it makes your list empty \n",
    "l = [1, 2, 3, 4, 5, 6, 7, 8, [9, 10], 'g', 'o', 'a']\n",
    "print(l)\n",
    "l.clear()\n",
    "print(l)"
   ]
  },
  {
   "cell_type": "code",
   "execution_count": null,
   "id": "3e02e024",
   "metadata": {},
   "outputs": [],
   "source": [
    "# Operations\n",
    "concate ( always create a new list without losting the previous ones.)"
   ]
  },
  {
   "cell_type": "code",
   "execution_count": 77,
   "id": "458d9222",
   "metadata": {},
   "outputs": [
    {
     "name": "stdout",
     "output_type": "stream",
     "text": [
      "[1, 2, 3, 4, 5, 6, 7, 8]\n",
      "[1, 2, 3, 4]\n",
      "[5, 6, 7, 8]\n"
     ]
    }
   ],
   "source": [
    "l = [1,2,3,4]\n",
    "l_1 = [5,6,7,8]\n",
    "print(l + l_1)\n",
    "print(l)\n",
    "print(l_1)"
   ]
  },
  {
   "cell_type": "code",
   "execution_count": 78,
   "id": "880df6f6",
   "metadata": {},
   "outputs": [
    {
     "name": "stdout",
     "output_type": "stream",
     "text": [
      "[1, 2, 3, 1, 2, 3, 1, 2, 3]\n"
     ]
    }
   ],
   "source": [
    "# multiplication\n",
    "l = [1,2,3]\n",
    "print(3*l)"
   ]
  },
  {
   "cell_type": "code",
   "execution_count": 79,
   "id": "61f3e65a",
   "metadata": {},
   "outputs": [
    {
     "name": "stdout",
     "output_type": "stream",
     "text": [
      "1\n",
      "2\n",
      "3\n",
      "4\n",
      "5\n"
     ]
    }
   ],
   "source": [
    "#loops\n",
    "l = [1,2,3,4,5]\n",
    "for i in l:\n",
    "    print(i)"
   ]
  },
  {
   "cell_type": "code",
   "execution_count": 81,
   "id": "7fadd2fb",
   "metadata": {},
   "outputs": [
    {
     "name": "stdout",
     "output_type": "stream",
     "text": [
      "1\n",
      "2\n",
      "3\n",
      "[4, 5]\n"
     ]
    }
   ],
   "source": [
    "l = [1,2,3,[4,5]]\n",
    "for i in l:\n",
    "    print(i)"
   ]
  },
  {
   "cell_type": "code",
   "execution_count": 84,
   "id": "11a768b9",
   "metadata": {},
   "outputs": [
    {
     "name": "stdout",
     "output_type": "stream",
     "text": [
      "False\n"
     ]
    },
    {
     "data": {
      "text/plain": [
       "True"
      ]
     },
     "execution_count": 84,
     "metadata": {},
     "output_type": "execute_result"
    }
   ],
   "source": [
    "#membership\n",
    "print(4 in l)\n",
    "[4,5] in l"
   ]
  },
  {
   "cell_type": "code",
   "execution_count": 85,
   "id": "9911c84a",
   "metadata": {},
   "outputs": [
    {
     "data": {
      "text/plain": [
       "5"
      ]
     },
     "execution_count": 85,
     "metadata": {},
     "output_type": "execute_result"
    }
   ],
   "source": [
    "# functions present in list\n",
    "l = [1,2,3,4,5]\n",
    "len(l)"
   ]
  },
  {
   "cell_type": "code",
   "execution_count": 100,
   "id": "0030a554",
   "metadata": {
    "scrolled": true
   },
   "outputs": [
    {
     "name": "stdout",
     "output_type": "stream",
     "text": [
      "1\n",
      "5\n",
      "[1, 2, 3, 4, 5]\n",
      "[5, 4, 3, 2, 1]\n"
     ]
    }
   ],
   "source": [
    "l = [1,2,3,4,5]\n",
    "print(min(l))\n",
    "print(max(l))\n",
    "print(sorted(l))\n",
    "print(sorted(l,reverse=True))\n",
    "#Sorted is not an permanet operation it will always create a new list and then perfom its operation on it.\n"
   ]
  },
  {
   "cell_type": "code",
   "execution_count": 110,
   "id": "bbe1d560",
   "metadata": {},
   "outputs": [
    {
     "name": "stdout",
     "output_type": "stream",
     "text": [
      "[1, 2, 3, 4]\n"
     ]
    }
   ],
   "source": [
    "# sort is an permanent operation\n",
    "l = [4,3,2,1]\n",
    "l.sort()\n",
    "print(l)"
   ]
  },
  {
   "cell_type": "code",
   "execution_count": 119,
   "id": "cd1f3886",
   "metadata": {},
   "outputs": [
    {
     "name": "stdout",
     "output_type": "stream",
     "text": [
      "0\n",
      "1\n",
      "2\n",
      "3\n"
     ]
    }
   ],
   "source": [
    "l = [1,2,3,4]\n",
    "print(l.index(1))\n",
    "print(l.index(2))\n",
    "print(l.index(3))\n",
    "print(l.index(4))"
   ]
  },
  {
   "cell_type": "code",
   "execution_count": 121,
   "id": "7fee63b5",
   "metadata": {},
   "outputs": [
    {
     "data": {
      "text/plain": [
       "'How Are You?'"
      ]
     },
     "execution_count": 121,
     "metadata": {},
     "output_type": "execute_result"
    }
   ],
   "source": [
    "\"how are you?\".title()"
   ]
  },
  {
   "cell_type": "code",
   "execution_count": 127,
   "id": "91789d30",
   "metadata": {},
   "outputs": [
    {
     "name": "stdout",
     "output_type": "stream",
     "text": [
      "['how', 'are', 'you?']\n",
      "How\n",
      "Are\n",
      "You?\n",
      "['How', 'Are', 'You?']\n",
      "How Are You?\n"
     ]
    }
   ],
   "source": [
    "sample = \"how are you?\"\n",
    "\n",
    "l=[]\n",
    "\n",
    "print(sample.split())\n",
    "for i in sample.split():\n",
    "    print(i.capitalize())\n",
    "    l.append(i.capitalize())\n",
    "print(l)\n",
    "print(\" \".join(l))"
   ]
  },
  {
   "cell_type": "code",
   "execution_count": 131,
   "id": "8a6b84c1",
   "metadata": {},
   "outputs": [
    {
     "name": "stdout",
     "output_type": "stream",
     "text": [
      "abcdefs\n"
     ]
    }
   ],
   "source": [
    "# extract whatever written before @\n",
    "sample = \"abcdefs@gmail.com\"\n",
    "\n",
    "print(sample[:sample.find(\"@\")])"
   ]
  }
 ],
 "metadata": {
  "kernelspec": {
   "display_name": "Python 3 (ipykernel)",
   "language": "python",
   "name": "python3"
  },
  "language_info": {
   "codemirror_mode": {
    "name": "ipython",
    "version": 3
   },
   "file_extension": ".py",
   "mimetype": "text/x-python",
   "name": "python",
   "nbconvert_exporter": "python",
   "pygments_lexer": "ipython3",
   "version": "3.9.13"
  }
 },
 "nbformat": 4,
 "nbformat_minor": 5
}
