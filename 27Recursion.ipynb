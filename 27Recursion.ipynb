{
 "cells": [
  {
   "cell_type": "markdown",
   "id": "23f3ea52",
   "metadata": {},
   "source": [
    "Iterative VS Recursive\n",
    "a*b = a + a + a + a + ... b times"
   ]
  },
  {
   "cell_type": "code",
   "execution_count": 3,
   "id": "a2a7a544",
   "metadata": {},
   "outputs": [
    {
     "name": "stdout",
     "output_type": "stream",
     "text": [
      "12\n"
     ]
    }
   ],
   "source": [
    "# Iterative approach\n",
    "def multiply(a,b):\n",
    "    res = 0\n",
    "    for i in range(b):\n",
    "        res = res + a\n",
    "    print(res)\n",
    "multiply(3,4)"
   ]
  },
  {
   "cell_type": "code",
   "execution_count": 4,
   "id": "bb375126",
   "metadata": {},
   "outputs": [
    {
     "data": {
      "text/plain": [
       "12"
      ]
     },
     "execution_count": 4,
     "metadata": {},
     "output_type": "execute_result"
    }
   ],
   "source": [
    "# Recursive approach\n",
    "def multiply(a,b):\n",
    "    if b == 1:\n",
    "        return a\n",
    "    else:\n",
    "        return a + multiply(a,b-1)\n",
    "multiply(3,4)"
   ]
  },
  {
   "cell_type": "code",
   "execution_count": 3,
   "id": "50698a92",
   "metadata": {},
   "outputs": [
    {
     "data": {
      "text/plain": [
       "6"
      ]
     },
     "execution_count": 3,
     "metadata": {},
     "output_type": "execute_result"
    }
   ],
   "source": [
    "# Recusive Factorial code\n",
    "def fact(num):\n",
    "    if num == 1 & num == 0:\n",
    "        return 1\n",
    "    else:\n",
    "        return num*fact(num-1)\n",
    "fact(3)"
   ]
  },
  {
   "cell_type": "code",
   "execution_count": 7,
   "id": "02ddf705",
   "metadata": {},
   "outputs": [
    {
     "name": "stdout",
     "output_type": "stream",
     "text": [
      "palindrome\n",
      "palindrome\n",
      "Not a palindrome\n"
     ]
    }
   ],
   "source": [
    "# Recursive Palindrome \n",
    "def palindrome(string):\n",
    "    if len(string) <= 1:\n",
    "        print(\"palindrome\")\n",
    "    else:\n",
    "        if string[0] == string[-1]:\n",
    "            palindrome(string[1:-1])\n",
    "        else:\n",
    "            print(\"Not a palindrome\")\n",
    "\n",
    "palindrome(\"madam\")\n",
    "palindrome(\"abba\")\n",
    "palindrome(\"abcd\")"
   ]
  },
  {
   "cell_type": "code",
   "execution_count": 10,
   "id": "1ace9eb5",
   "metadata": {},
   "outputs": [
    {
     "data": {
      "text/plain": [
       "24157817"
      ]
     },
     "execution_count": 10,
     "metadata": {},
     "output_type": "execute_result"
    }
   ],
   "source": [
    "# rabbit problem\n",
    "# if 2 newborn rabbits are put in a pen, how many rabbits will be in the pen after 1 years?\n",
    "# assume that \n",
    "# 1. Always produce one male and one female offspring.\n",
    "# 2. can reproduce once every month\n",
    "# 3. can repoduce once they are one month old.\n",
    "# 4. Never die!!\n",
    "\n",
    "# Fibonacci sequence\n",
    "\n",
    "def fib(n):\n",
    "    if n==0 or n==1:\n",
    "        return 1\n",
    "    else:\n",
    "        return fib(n-1)+fib(n-2)\n",
    "    \n",
    "fib(12)\n",
    "fib(24)\n",
    "fib(36)"
   ]
  },
  {
   "cell_type": "code",
   "execution_count": null,
   "id": "7652540c",
   "metadata": {},
   "outputs": [],
   "source": [
    "# but the problem with above code is as we increase the value of 'n' it will take more and more time to genrate the output.\n",
    "# this code is highly in-efficient.\n",
    "# but why this code is not up to the mark."
   ]
  },
  {
   "cell_type": "code",
   "execution_count": 12,
   "id": "fd1e8c01",
   "metadata": {},
   "outputs": [
    {
     "name": "stdout",
     "output_type": "stream",
     "text": [
      "24157817\n",
      "36.547290086746216\n"
     ]
    }
   ],
   "source": [
    "import time\n",
    "def fib(n):\n",
    "    if n==0 or n==1:\n",
    "        return 1\n",
    "    else:\n",
    "        return fib(n-1)+fib(n-2)\n",
    "\n",
    "startTime = time.time()    \n",
    "print(fib(36))\n",
    "print(time.time()-startTime)"
   ]
  },
  {
   "cell_type": "raw",
   "id": "c4600e04",
   "metadata": {},
   "source": [
    "# note that the time complexity is 2^n.\n",
    "# this above code is highly inefficient.\n",
    "# for 1 month it is 2^1 and for the 48 months it would be 2^48.\n",
    "# what is solution to reduce the time.\n",
    "# By using More space (space-timw trade-off)"
   ]
  },
  {
   "cell_type": "code",
   "execution_count": 10,
   "id": "75cdf9c1",
   "metadata": {},
   "outputs": [
    {
     "name": "stdout",
     "output_type": "stream",
     "text": [
      "17167680177565\n",
      "0.0\n"
     ]
    }
   ],
   "source": [
    "import time\n",
    "def memoFibbo(n,d):\n",
    "    if n in d:\n",
    "        return d[n]\n",
    "    else:\n",
    "        d[n] = memoFibbo(n-1,d) + memoFibbo(n-2,d)\n",
    "        return d[n]\n",
    "startTime = time.time()     \n",
    "d={0:1,1:1}\n",
    "print(memoFibbo(64,d))\n",
    "print(time.time()-startTime)"
   ]
  }
 ],
 "metadata": {
  "kernelspec": {
   "display_name": "Python 3 (ipykernel)",
   "language": "python",
   "name": "python3"
  },
  "language_info": {
   "codemirror_mode": {
    "name": "ipython",
    "version": 3
   },
   "file_extension": ".py",
   "mimetype": "text/x-python",
   "name": "python",
   "nbconvert_exporter": "python",
   "pygments_lexer": "ipython3",
   "version": "3.9.13"
  }
 },
 "nbformat": 4,
 "nbformat_minor": 5
}
