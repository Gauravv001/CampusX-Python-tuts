{
 "cells": [
  {
   "cell_type": "code",
   "execution_count": null,
   "id": "e49dd070",
   "metadata": {},
   "outputs": [],
   "source": [
    "#literals is a raw data given in a variable. In python,there are various types of literals they are as follows:\n",
    "# 1. numeric literals\n",
    "# 2. string Literals\n",
    "# 3. Boolean literals\n",
    "# 4. special literals"
   ]
  },
  {
   "cell_type": "code",
   "execution_count": 1,
   "id": "d10cfcef",
   "metadata": {},
   "outputs": [
    {
     "name": "stdout",
     "output_type": "stream",
     "text": [
      "10\n",
      "103\n",
      "200\n",
      "300\n"
     ]
    }
   ],
   "source": [
    "# Numeric Literals\n",
    "#a = 0b... #Binary literal\n",
    "#b = 12    #Decimal Literal\n",
    "#c = 0o... #Octal Literal\n",
    "#d = 0x... #Hexadecimal literal\n",
    "\n",
    "Binary_Literal = 0b1010\n",
    "Decimal_Literal = 103\n",
    "Octal_Literal = 0o310\n",
    "Hexadecimal_Literal = 0x12c\n",
    "\n",
    "print(Binary_Literal)\n",
    "print(Decimal_Literal)\n",
    "print(Octal_Literal)\n",
    "print(Hexadecimal_Literal)"
   ]
  },
  {
   "cell_type": "code",
   "execution_count": 2,
   "id": "2ad981c0",
   "metadata": {},
   "outputs": [
    {
     "name": "stdout",
     "output_type": "stream",
     "text": [
      "10.5\n",
      "150.0\n",
      "0.0015\n"
     ]
    }
   ],
   "source": [
    "#floar literal\n",
    "Float_1 = 10.5\n",
    "Float_2 = 1.5e2\n",
    "Float_3 = 1.5e-3\n",
    "\n",
    "print(Float_1)\n",
    "print(Float_2)\n",
    "print(Float_3)"
   ]
  },
  {
   "cell_type": "code",
   "execution_count": 4,
   "id": "a863ca1f",
   "metadata": {},
   "outputs": [
    {
     "name": "stdout",
     "output_type": "stream",
     "text": [
      "(12+3.2j)\n",
      "3.2\n",
      "12.0\n"
     ]
    }
   ],
   "source": [
    "#complex literal\n",
    "x = 12 + 3.2j\n",
    "print(x)\n",
    "print(x.imag)\n",
    "print(x.real)"
   ]
  },
  {
   "cell_type": "code",
   "execution_count": 5,
   "id": "93378d71",
   "metadata": {},
   "outputs": [
    {
     "name": "stdout",
     "output_type": "stream",
     "text": [
      "this is a valid string\n",
      "this is a double-quote string\n",
      "C\n",
      "this is a multiline string.\n",
      "😀😆🤣\n",
      "raw \\n string\n"
     ]
    }
   ],
   "source": [
    "#String Literals\n",
    "string = 'this is a valid string'\n",
    "string_1 = \"this is a double-quote string\"\n",
    "char = \"C\"\n",
    "multilineStr = \"\"\"this is a multiline string.\"\"\"\n",
    "uniCode = u\"\\U0001f600\\U0001F606\\U0001F923\"\n",
    "rawStr = r\"raw \\n string\"\n",
    "\n",
    "\n",
    "print(string)\n",
    "print(string_1)\n",
    "print(char)\n",
    "print(multilineStr)\n",
    "print(uniCode)\n",
    "print(rawStr)"
   ]
  },
  {
   "cell_type": "code",
   "execution_count": 6,
   "id": "9e5d1a2e",
   "metadata": {},
   "outputs": [
    {
     "name": "stdout",
     "output_type": "stream",
     "text": [
      "a:  3\n",
      "b:  2\n"
     ]
    }
   ],
   "source": [
    "#Boolean literal\n",
    "a = True + 2\n",
    "b = False + 2\n",
    "\n",
    "print(\"a: \", a)\n",
    "print(\"b: \", b)"
   ]
  },
  {
   "cell_type": "code",
   "execution_count": 7,
   "id": "ee940eb1",
   "metadata": {},
   "outputs": [
    {
     "name": "stdout",
     "output_type": "stream",
     "text": [
      "None\n"
     ]
    }
   ],
   "source": [
    "#Special Literal\n",
    "a = None\n",
    "print(a)"
   ]
  },
  {
   "cell_type": "code",
   "execution_count": null,
   "id": "c7571131",
   "metadata": {},
   "outputs": [],
   "source": [
    "#None is used for variable declaration "
   ]
  }
 ],
 "metadata": {
  "kernelspec": {
   "display_name": "Python 3 (ipykernel)",
   "language": "python",
   "name": "python3"
  },
  "language_info": {
   "codemirror_mode": {
    "name": "ipython",
    "version": 3
   },
   "file_extension": ".py",
   "mimetype": "text/x-python",
   "name": "python",
   "nbconvert_exporter": "python",
   "pygments_lexer": "ipython3",
   "version": "3.9.13"
  }
 },
 "nbformat": 4,
 "nbformat_minor": 5
}
